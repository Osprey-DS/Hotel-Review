{
 "cells": [
  {
   "cell_type": "markdown",
   "metadata": {},
   "source": [
    "# Importing Basic Libraries"
   ]
  },
  {
   "cell_type": "code",
   "execution_count": 1,
   "metadata": {},
   "outputs": [],
   "source": [
    "import pandas as pd\n",
    "import numpy as np\n",
    "import matplotlib.pyplot as plt\n",
    "%matplotlib inline\n",
    "plt.rcParams['figure.figsize'] = (15,8)"
   ]
  },
  {
   "cell_type": "code",
   "execution_count": 2,
   "metadata": {},
   "outputs": [],
   "source": [
    "df = pd.read_csv(\"Data Analyst - Test Data - US.csv\")"
   ]
  },
  {
   "cell_type": "code",
   "execution_count": 3,
   "metadata": {},
   "outputs": [
    {
     "data": {
      "text/html": [
       "<div>\n",
       "<style scoped>\n",
       "    .dataframe tbody tr th:only-of-type {\n",
       "        vertical-align: middle;\n",
       "    }\n",
       "\n",
       "    .dataframe tbody tr th {\n",
       "        vertical-align: top;\n",
       "    }\n",
       "\n",
       "    .dataframe thead th {\n",
       "        text-align: right;\n",
       "    }\n",
       "</style>\n",
       "<table border=\"1\" class=\"dataframe\">\n",
       "  <thead>\n",
       "    <tr style=\"text-align: right;\">\n",
       "      <th></th>\n",
       "      <th>Review</th>\n",
       "      <th>date</th>\n",
       "      <th>Location</th>\n",
       "    </tr>\n",
       "  </thead>\n",
       "  <tbody>\n",
       "    <tr>\n",
       "      <th>0</th>\n",
       "      <td>I was very impressed with the resort.\\n Great staff at the main resort pool bar! We had a blast with them.\\n Clean, professional staff, great location and very reasonable!\\n  \\n  Read more\\n  Read less</td>\n",
       "      <td>2019/08/20</td>\n",
       "      <td>Sebastian</td>\n",
       "    </tr>\n",
       "    <tr>\n",
       "      <th>1</th>\n",
       "      <td>The rooms were nice the outside needs work also no free breakfast it would have been nice overall it was ok\\n  \\n  Read more\\n  Read less</td>\n",
       "      <td>2019/08/20</td>\n",
       "      <td>Los Angeles</td>\n",
       "    </tr>\n",
       "    <tr>\n",
       "      <th>2</th>\n",
       "      <td>Great location! I have stayed at this hotel on my last three trips to New York.\\n  \\n  Read more\\n  Read less</td>\n",
       "      <td>2019/08/20</td>\n",
       "      <td>Georgia</td>\n",
       "    </tr>\n",
       "    <tr>\n",
       "      <th>3</th>\n",
       "      <td>The hotel was adequate for my stay. The strips in the bathtub were useless as I fell while taking a shower. I asked the front desk staff several times to get a bath mat but they never did. Management was unresponsive to my request which was very poor; someone should have gone to a dollar store and gotten a bath mat. Breakfast was good but it would have been nice to have had yogurt and/or cottage cheese on the buffet.\\n  \\n  Read more\\n  Read less</td>\n",
       "      <td>2019/08/20</td>\n",
       "      <td>NaN</td>\n",
       "    </tr>\n",
       "    <tr>\n",
       "      <th>4</th>\n",
       "      <td>Great location, room was large and spacious. Parking was easy and we appreciated the friendly staff\\n  \\n  Read more\\n  Read less</td>\n",
       "      <td>2019/08/19</td>\n",
       "      <td>Palm Harbor</td>\n",
       "    </tr>\n",
       "    <tr>\n",
       "      <th>5</th>\n",
       "      <td>All the options for fun were great! Do wish there were a better policy on the lazy river floats. Lots of people\\n Hoarding them.\\n  \\n  Read more\\n  Read less</td>\n",
       "      <td>2019/08/19</td>\n",
       "      <td>NaN</td>\n",
       "    </tr>\n",
       "    <tr>\n",
       "      <th>6</th>\n",
       "      <td>Old. Musty. Motel. \\n Bath need an update asap\\n !!!!!!\\n  \\n  Read more\\n  Read less</td>\n",
       "      <td>2019/08/19</td>\n",
       "      <td>NaN</td>\n",
       "    </tr>\n",
       "    <tr>\n",
       "      <th>7</th>\n",
       "      <td>Loved the layout of the hotel and the relaxing pool area.\\n Only con was housekeeping/maintenance staff passing the room with carts and speaking loudly on radios at 7-7:30 am.\\n  \\n  Read more\\n  Read less</td>\n",
       "      <td>2019/08/19</td>\n",
       "      <td>NaN</td>\n",
       "    </tr>\n",
       "    <tr>\n",
       "      <th>8</th>\n",
       "      <td>My wife and I loved everything about it. It’s close to everything and everywhere. \\n We will be recommending to others and we will definitely be back.\\n  \\n  Read more\\n  Read less</td>\n",
       "      <td>2019/08/19</td>\n",
       "      <td>NaN</td>\n",
       "    </tr>\n",
       "    <tr>\n",
       "      <th>9</th>\n",
       "      <td>rooms were very small, was told i had a complimentary upgrade to a empire state building view room but it was a regular room, everything else was ok.\\n  \\n  Read more\\n  Read less</td>\n",
       "      <td>2019/08/19</td>\n",
       "      <td>NaN</td>\n",
       "    </tr>\n",
       "  </tbody>\n",
       "</table>\n",
       "</div>"
      ],
      "text/plain": [
       "                                                                                                                                                                                                                                                                                                                                                                                                                                                               Review  \\\n",
       "0                                                                                                                                                                                                                                                           I was very impressed with the resort.\\n Great staff at the main resort pool bar! We had a blast with them.\\n Clean, professional staff, great location and very reasonable!\\n  \\n  Read more\\n  Read less   \n",
       "1                                                                                                                                                                                                                                                                                                                           The rooms were nice the outside needs work also no free breakfast it would have been nice overall it was ok\\n  \\n  Read more\\n  Read less   \n",
       "2                                                                                                                                                                                                                                                                                                                                                       Great location! I have stayed at this hotel on my last three trips to New York.\\n  \\n  Read more\\n  Read less   \n",
       "3  The hotel was adequate for my stay. The strips in the bathtub were useless as I fell while taking a shower. I asked the front desk staff several times to get a bath mat but they never did. Management was unresponsive to my request which was very poor; someone should have gone to a dollar store and gotten a bath mat. Breakfast was good but it would have been nice to have had yogurt and/or cottage cheese on the buffet.\\n  \\n  Read more\\n  Read less   \n",
       "4                                                                                                                                                                                                                                                                                                                                   Great location, room was large and spacious. Parking was easy and we appreciated the friendly staff\\n  \\n  Read more\\n  Read less   \n",
       "5                                                                                                                                                                                                                                                                                                      All the options for fun were great! Do wish there were a better policy on the lazy river floats. Lots of people\\n Hoarding them.\\n  \\n  Read more\\n  Read less   \n",
       "6                                                                                                                                                                                                                                                                                                                                                                               Old. Musty. Motel. \\n Bath need an update asap\\n !!!!!!\\n  \\n  Read more\\n  Read less   \n",
       "7                                                                                                                                                                                                                                                       Loved the layout of the hotel and the relaxing pool area.\\n Only con was housekeeping/maintenance staff passing the room with carts and speaking loudly on radios at 7-7:30 am.\\n  \\n  Read more\\n  Read less   \n",
       "8                                                                                                                                                                                                                                                                                My wife and I loved everything about it. It’s close to everything and everywhere. \\n We will be recommending to others and we will definitely be back.\\n  \\n  Read more\\n  Read less   \n",
       "9                                                                                                                                                                                                                                                                                 rooms were very small, was told i had a complimentary upgrade to a empire state building view room but it was a regular room, everything else was ok.\\n  \\n  Read more\\n  Read less   \n",
       "\n",
       "         date     Location  \n",
       "0  2019/08/20    Sebastian  \n",
       "1  2019/08/20  Los Angeles  \n",
       "2  2019/08/20      Georgia  \n",
       "3  2019/08/20          NaN  \n",
       "4  2019/08/19  Palm Harbor  \n",
       "5  2019/08/19          NaN  \n",
       "6  2019/08/19          NaN  \n",
       "7  2019/08/19          NaN  \n",
       "8  2019/08/19          NaN  \n",
       "9  2019/08/19          NaN  "
      ]
     },
     "execution_count": 3,
     "metadata": {},
     "output_type": "execute_result"
    }
   ],
   "source": [
    "pd.options.display.max_colwidth = 800\n",
    "df.head(10)"
   ]
  },
  {
   "cell_type": "code",
   "execution_count": 4,
   "metadata": {},
   "outputs": [
    {
     "name": "stdout",
     "output_type": "stream",
     "text": [
      "<class 'pandas.core.frame.DataFrame'>\n",
      "RangeIndex: 6448 entries, 0 to 6447\n",
      "Data columns (total 3 columns):\n",
      " #   Column    Non-Null Count  Dtype \n",
      "---  ------    --------------  ----- \n",
      " 0   Review    6393 non-null   object\n",
      " 1   date      6448 non-null   object\n",
      " 2   Location  1711 non-null   object\n",
      "dtypes: object(3)\n",
      "memory usage: 151.2+ KB\n"
     ]
    }
   ],
   "source": [
    "df.info()"
   ]
  },
  {
   "cell_type": "code",
   "execution_count": 5,
   "metadata": {},
   "outputs": [
    {
     "data": {
      "text/plain": [
       "Review        55\n",
       "date           0\n",
       "Location    4737\n",
       "dtype: int64"
      ]
     },
     "execution_count": 5,
     "metadata": {},
     "output_type": "execute_result"
    }
   ],
   "source": [
    "df.isnull().sum()"
   ]
  },
  {
   "cell_type": "markdown",
   "metadata": {},
   "source": [
    "# Performing Data Cleaning"
   ]
  },
  {
   "cell_type": "markdown",
   "metadata": {},
   "source": [
    "## What should do for cleaning this dataset ??\n",
    "1. From the <b>'Review'</b> column punctutaion and other unnecessary word I need to remove, also make all word in lower case.\n",
    "2. The <b>'date'</b> column needs to be convert pandas timestamp format.\n",
    "3. The <b>'Location'</b> column have lots of missing or nan value. I will fill those value with forward fill method.\\\n",
    "    The decision of forward filling is solely on me. and it's completely personal.\\\n",
    "    I understand the 'nan' value representing their previous value, so they\n",
    "    did not fill the same value many times."
   ]
  },
  {
   "cell_type": "code",
   "execution_count": 6,
   "metadata": {},
   "outputs": [],
   "source": [
    "df['Review'] = df['Review'].astype(str)"
   ]
  },
  {
   "cell_type": "markdown",
   "metadata": {},
   "source": [
    "## Importing String Manipulation Libraries"
   ]
  },
  {
   "cell_type": "code",
   "execution_count": 7,
   "metadata": {},
   "outputs": [],
   "source": [
    "import nltk\n",
    "import string"
   ]
  },
  {
   "cell_type": "code",
   "execution_count": 8,
   "metadata": {},
   "outputs": [],
   "source": [
    "def remove_punct(text):\n",
    "    text_punct_rmv = [char for char in text if char not in string.punctuation]\n",
    "    text_punct_rmv_joined = \"\".join(text_punct_rmv)\n",
    "    return text_punct_rmv_joined.lower()"
   ]
  },
  {
   "cell_type": "markdown",
   "metadata": {},
   "source": [
    "## 'Review' - Column"
   ]
  },
  {
   "cell_type": "code",
   "execution_count": 9,
   "metadata": {},
   "outputs": [],
   "source": [
    "df['Review'] = df['Review'].apply(remove_punct)"
   ]
  },
  {
   "cell_type": "code",
   "execution_count": 10,
   "metadata": {},
   "outputs": [
    {
     "data": {
      "text/html": [
       "<div>\n",
       "<style scoped>\n",
       "    .dataframe tbody tr th:only-of-type {\n",
       "        vertical-align: middle;\n",
       "    }\n",
       "\n",
       "    .dataframe tbody tr th {\n",
       "        vertical-align: top;\n",
       "    }\n",
       "\n",
       "    .dataframe thead th {\n",
       "        text-align: right;\n",
       "    }\n",
       "</style>\n",
       "<table border=\"1\" class=\"dataframe\">\n",
       "  <thead>\n",
       "    <tr style=\"text-align: right;\">\n",
       "      <th></th>\n",
       "      <th>Review</th>\n",
       "      <th>date</th>\n",
       "      <th>Location</th>\n",
       "    </tr>\n",
       "  </thead>\n",
       "  <tbody>\n",
       "    <tr>\n",
       "      <th>0</th>\n",
       "      <td>i was very impressed with the resort\\n great staff at the main resort pool bar we had a blast with them\\n clean professional staff great location and very reasonable\\n  \\n  read more\\n  read less</td>\n",
       "      <td>2019/08/20</td>\n",
       "      <td>Sebastian</td>\n",
       "    </tr>\n",
       "    <tr>\n",
       "      <th>1</th>\n",
       "      <td>the rooms were nice the outside needs work also no free breakfast it would have been nice overall it was ok\\n  \\n  read more\\n  read less</td>\n",
       "      <td>2019/08/20</td>\n",
       "      <td>Los Angeles</td>\n",
       "    </tr>\n",
       "    <tr>\n",
       "      <th>2</th>\n",
       "      <td>great location i have stayed at this hotel on my last three trips to new york\\n  \\n  read more\\n  read less</td>\n",
       "      <td>2019/08/20</td>\n",
       "      <td>Georgia</td>\n",
       "    </tr>\n",
       "    <tr>\n",
       "      <th>3</th>\n",
       "      <td>the hotel was adequate for my stay the strips in the bathtub were useless as i fell while taking a shower i asked the front desk staff several times to get a bath mat but they never did management was unresponsive to my request which was very poor someone should have gone to a dollar store and gotten a bath mat breakfast was good but it would have been nice to have had yogurt andor cottage cheese on the buffet\\n  \\n  read more\\n  read less</td>\n",
       "      <td>2019/08/20</td>\n",
       "      <td>NaN</td>\n",
       "    </tr>\n",
       "    <tr>\n",
       "      <th>4</th>\n",
       "      <td>great location room was large and spacious parking was easy and we appreciated the friendly staff\\n  \\n  read more\\n  read less</td>\n",
       "      <td>2019/08/19</td>\n",
       "      <td>Palm Harbor</td>\n",
       "    </tr>\n",
       "  </tbody>\n",
       "</table>\n",
       "</div>"
      ],
      "text/plain": [
       "                                                                                                                                                                                                                                                                                                                                                                                                                                                        Review  \\\n",
       "0                                                                                                                                                                                                                                                          i was very impressed with the resort\\n great staff at the main resort pool bar we had a blast with them\\n clean professional staff great location and very reasonable\\n  \\n  read more\\n  read less   \n",
       "1                                                                                                                                                                                                                                                                                                                    the rooms were nice the outside needs work also no free breakfast it would have been nice overall it was ok\\n  \\n  read more\\n  read less   \n",
       "2                                                                                                                                                                                                                                                                                                                                                  great location i have stayed at this hotel on my last three trips to new york\\n  \\n  read more\\n  read less   \n",
       "3  the hotel was adequate for my stay the strips in the bathtub were useless as i fell while taking a shower i asked the front desk staff several times to get a bath mat but they never did management was unresponsive to my request which was very poor someone should have gone to a dollar store and gotten a bath mat breakfast was good but it would have been nice to have had yogurt andor cottage cheese on the buffet\\n  \\n  read more\\n  read less   \n",
       "4                                                                                                                                                                                                                                                                                                                              great location room was large and spacious parking was easy and we appreciated the friendly staff\\n  \\n  read more\\n  read less   \n",
       "\n",
       "         date     Location  \n",
       "0  2019/08/20    Sebastian  \n",
       "1  2019/08/20  Los Angeles  \n",
       "2  2019/08/20      Georgia  \n",
       "3  2019/08/20          NaN  \n",
       "4  2019/08/19  Palm Harbor  "
      ]
     },
     "execution_count": 10,
     "metadata": {},
     "output_type": "execute_result"
    }
   ],
   "source": [
    "df.head()"
   ]
  },
  {
   "cell_type": "markdown",
   "metadata": {},
   "source": [
    "Noticed there is <b>'\\n'</b> and <b>'read more read less'</b>. and these will not help me detect sentiment. I need to remove these unnecessary word"
   ]
  },
  {
   "cell_type": "code",
   "execution_count": 11,
   "metadata": {},
   "outputs": [],
   "source": [
    "df['Review'] = df['Review'].apply(lambda x: x.replace('\\n',''))\n",
    "\n",
    "df['Review'] = df['Review'].apply(lambda x: x.replace('read',''))\n",
    "df['Review'] = df['Review'].apply(lambda x: x.replace('more',''))\n",
    "df['Review'] = df['Review'].apply(lambda x: x.replace('less',''))"
   ]
  },
  {
   "cell_type": "code",
   "execution_count": 12,
   "metadata": {},
   "outputs": [
    {
     "data": {
      "text/html": [
       "<div>\n",
       "<style scoped>\n",
       "    .dataframe tbody tr th:only-of-type {\n",
       "        vertical-align: middle;\n",
       "    }\n",
       "\n",
       "    .dataframe tbody tr th {\n",
       "        vertical-align: top;\n",
       "    }\n",
       "\n",
       "    .dataframe thead th {\n",
       "        text-align: right;\n",
       "    }\n",
       "</style>\n",
       "<table border=\"1\" class=\"dataframe\">\n",
       "  <thead>\n",
       "    <tr style=\"text-align: right;\">\n",
       "      <th></th>\n",
       "      <th>Review</th>\n",
       "      <th>date</th>\n",
       "      <th>Location</th>\n",
       "    </tr>\n",
       "  </thead>\n",
       "  <tbody>\n",
       "    <tr>\n",
       "      <th>0</th>\n",
       "      <td>i was very impressed with the resort great staff at the main resort pool bar we had a blast with them clean professional staff great location and very reasonable</td>\n",
       "      <td>2019/08/20</td>\n",
       "      <td>Sebastian</td>\n",
       "    </tr>\n",
       "    <tr>\n",
       "      <th>1</th>\n",
       "      <td>the rooms were nice the outside needs work also no free breakfast it would have been nice overall it was ok</td>\n",
       "      <td>2019/08/20</td>\n",
       "      <td>Los Angeles</td>\n",
       "    </tr>\n",
       "    <tr>\n",
       "      <th>2</th>\n",
       "      <td>great location i have stayed at this hotel on my last three trips to new york</td>\n",
       "      <td>2019/08/20</td>\n",
       "      <td>Georgia</td>\n",
       "    </tr>\n",
       "    <tr>\n",
       "      <th>3</th>\n",
       "      <td>the hotel was adequate for my stay the strips in the bathtub were use as i fell while taking a shower i asked the front desk staff several times to get a bath mat but they never did management was unresponsive to my request which was very poor someone should have gone to a dollar store and gotten a bath mat breakfast was good but it would have been nice to have had yogurt andor cottage cheese on the buffet</td>\n",
       "      <td>2019/08/20</td>\n",
       "      <td>NaN</td>\n",
       "    </tr>\n",
       "    <tr>\n",
       "      <th>4</th>\n",
       "      <td>great location room was large and spacious parking was easy and we appreciated the friendly staff</td>\n",
       "      <td>2019/08/19</td>\n",
       "      <td>Palm Harbor</td>\n",
       "    </tr>\n",
       "  </tbody>\n",
       "</table>\n",
       "</div>"
      ],
      "text/plain": [
       "                                                                                                                                                                                                                                                                                                                                                                                                                              Review  \\\n",
       "0                                                                                                                                                                                                                                                          i was very impressed with the resort great staff at the main resort pool bar we had a blast with them clean professional staff great location and very reasonable           \n",
       "1                                                                                                                                                                                                                                                                                                                the rooms were nice the outside needs work also no free breakfast it would have been nice overall it was ok           \n",
       "2                                                                                                                                                                                                                                                                                                                                              great location i have stayed at this hotel on my last three trips to new york           \n",
       "3  the hotel was adequate for my stay the strips in the bathtub were use as i fell while taking a shower i asked the front desk staff several times to get a bath mat but they never did management was unresponsive to my request which was very poor someone should have gone to a dollar store and gotten a bath mat breakfast was good but it would have been nice to have had yogurt andor cottage cheese on the buffet           \n",
       "4                                                                                                                                                                                                                                                                                                                          great location room was large and spacious parking was easy and we appreciated the friendly staff           \n",
       "\n",
       "         date     Location  \n",
       "0  2019/08/20    Sebastian  \n",
       "1  2019/08/20  Los Angeles  \n",
       "2  2019/08/20      Georgia  \n",
       "3  2019/08/20          NaN  \n",
       "4  2019/08/19  Palm Harbor  "
      ]
     },
     "execution_count": 12,
     "metadata": {},
     "output_type": "execute_result"
    }
   ],
   "source": [
    "df.head()"
   ]
  },
  {
   "cell_type": "markdown",
   "metadata": {},
   "source": [
    "## 'date' - Column"
   ]
  },
  {
   "cell_type": "code",
   "execution_count": 13,
   "metadata": {},
   "outputs": [],
   "source": [
    "df['date'] = pd.to_datetime(df['date'], yearfirst=True)"
   ]
  },
  {
   "cell_type": "code",
   "execution_count": 14,
   "metadata": {},
   "outputs": [
    {
     "data": {
      "text/html": [
       "<div>\n",
       "<style scoped>\n",
       "    .dataframe tbody tr th:only-of-type {\n",
       "        vertical-align: middle;\n",
       "    }\n",
       "\n",
       "    .dataframe tbody tr th {\n",
       "        vertical-align: top;\n",
       "    }\n",
       "\n",
       "    .dataframe thead th {\n",
       "        text-align: right;\n",
       "    }\n",
       "</style>\n",
       "<table border=\"1\" class=\"dataframe\">\n",
       "  <thead>\n",
       "    <tr style=\"text-align: right;\">\n",
       "      <th></th>\n",
       "      <th>Review</th>\n",
       "      <th>date</th>\n",
       "      <th>Location</th>\n",
       "    </tr>\n",
       "  </thead>\n",
       "  <tbody>\n",
       "    <tr>\n",
       "      <th>0</th>\n",
       "      <td>i was very impressed with the resort great staff at the main resort pool bar we had a blast with them clean professional staff great location and very reasonable</td>\n",
       "      <td>2019-08-20</td>\n",
       "      <td>Sebastian</td>\n",
       "    </tr>\n",
       "    <tr>\n",
       "      <th>1</th>\n",
       "      <td>the rooms were nice the outside needs work also no free breakfast it would have been nice overall it was ok</td>\n",
       "      <td>2019-08-20</td>\n",
       "      <td>Los Angeles</td>\n",
       "    </tr>\n",
       "    <tr>\n",
       "      <th>2</th>\n",
       "      <td>great location i have stayed at this hotel on my last three trips to new york</td>\n",
       "      <td>2019-08-20</td>\n",
       "      <td>Georgia</td>\n",
       "    </tr>\n",
       "    <tr>\n",
       "      <th>3</th>\n",
       "      <td>the hotel was adequate for my stay the strips in the bathtub were use as i fell while taking a shower i asked the front desk staff several times to get a bath mat but they never did management was unresponsive to my request which was very poor someone should have gone to a dollar store and gotten a bath mat breakfast was good but it would have been nice to have had yogurt andor cottage cheese on the buffet</td>\n",
       "      <td>2019-08-20</td>\n",
       "      <td>NaN</td>\n",
       "    </tr>\n",
       "    <tr>\n",
       "      <th>4</th>\n",
       "      <td>great location room was large and spacious parking was easy and we appreciated the friendly staff</td>\n",
       "      <td>2019-08-19</td>\n",
       "      <td>Palm Harbor</td>\n",
       "    </tr>\n",
       "  </tbody>\n",
       "</table>\n",
       "</div>"
      ],
      "text/plain": [
       "                                                                                                                                                                                                                                                                                                                                                                                                                              Review  \\\n",
       "0                                                                                                                                                                                                                                                          i was very impressed with the resort great staff at the main resort pool bar we had a blast with them clean professional staff great location and very reasonable           \n",
       "1                                                                                                                                                                                                                                                                                                                the rooms were nice the outside needs work also no free breakfast it would have been nice overall it was ok           \n",
       "2                                                                                                                                                                                                                                                                                                                                              great location i have stayed at this hotel on my last three trips to new york           \n",
       "3  the hotel was adequate for my stay the strips in the bathtub were use as i fell while taking a shower i asked the front desk staff several times to get a bath mat but they never did management was unresponsive to my request which was very poor someone should have gone to a dollar store and gotten a bath mat breakfast was good but it would have been nice to have had yogurt andor cottage cheese on the buffet           \n",
       "4                                                                                                                                                                                                                                                                                                                          great location room was large and spacious parking was easy and we appreciated the friendly staff           \n",
       "\n",
       "        date     Location  \n",
       "0 2019-08-20    Sebastian  \n",
       "1 2019-08-20  Los Angeles  \n",
       "2 2019-08-20      Georgia  \n",
       "3 2019-08-20          NaN  \n",
       "4 2019-08-19  Palm Harbor  "
      ]
     },
     "execution_count": 14,
     "metadata": {},
     "output_type": "execute_result"
    }
   ],
   "source": [
    "df.head()"
   ]
  },
  {
   "cell_type": "code",
   "execution_count": 15,
   "metadata": {},
   "outputs": [
    {
     "name": "stdout",
     "output_type": "stream",
     "text": [
      "2018-08-01 00:00:00\n",
      "2019-08-20 00:00:00\n"
     ]
    }
   ],
   "source": [
    "print(min(df['date']))\n",
    "print(max(df['date']))"
   ]
  },
  {
   "cell_type": "markdown",
   "metadata": {},
   "source": [
    "## Here is almost 1 year of review."
   ]
  },
  {
   "cell_type": "markdown",
   "metadata": {},
   "source": [
    "## 'Location' - Column"
   ]
  },
  {
   "cell_type": "code",
   "execution_count": 16,
   "metadata": {},
   "outputs": [],
   "source": [
    "df['Location'].fillna(method='ffill',inplace=True)"
   ]
  },
  {
   "cell_type": "markdown",
   "metadata": {},
   "source": [
    "### The decision to forward filling is solely on me. I did it from past experience. and I can't give any specific reason or fact for doing the same here."
   ]
  },
  {
   "cell_type": "code",
   "execution_count": 18,
   "metadata": {},
   "outputs": [
    {
     "data": {
      "text/html": [
       "<div>\n",
       "<style scoped>\n",
       "    .dataframe tbody tr th:only-of-type {\n",
       "        vertical-align: middle;\n",
       "    }\n",
       "\n",
       "    .dataframe tbody tr th {\n",
       "        vertical-align: top;\n",
       "    }\n",
       "\n",
       "    .dataframe thead th {\n",
       "        text-align: right;\n",
       "    }\n",
       "</style>\n",
       "<table border=\"1\" class=\"dataframe\">\n",
       "  <thead>\n",
       "    <tr style=\"text-align: right;\">\n",
       "      <th></th>\n",
       "      <th>Review</th>\n",
       "      <th>date</th>\n",
       "      <th>Location</th>\n",
       "    </tr>\n",
       "  </thead>\n",
       "  <tbody>\n",
       "    <tr>\n",
       "      <th>0</th>\n",
       "      <td>i was very impressed with the resort great staff at the main resort pool bar we had a blast with them clean professional staff great location and very reasonable</td>\n",
       "      <td>2019-08-20</td>\n",
       "      <td>Sebastian</td>\n",
       "    </tr>\n",
       "    <tr>\n",
       "      <th>1</th>\n",
       "      <td>the rooms were nice the outside needs work also no free breakfast it would have been nice overall it was ok</td>\n",
       "      <td>2019-08-20</td>\n",
       "      <td>Los Angeles</td>\n",
       "    </tr>\n",
       "    <tr>\n",
       "      <th>2</th>\n",
       "      <td>great location i have stayed at this hotel on my last three trips to new york</td>\n",
       "      <td>2019-08-20</td>\n",
       "      <td>Georgia</td>\n",
       "    </tr>\n",
       "    <tr>\n",
       "      <th>3</th>\n",
       "      <td>the hotel was adequate for my stay the strips in the bathtub were use as i fell while taking a shower i asked the front desk staff several times to get a bath mat but they never did management was unresponsive to my request which was very poor someone should have gone to a dollar store and gotten a bath mat breakfast was good but it would have been nice to have had yogurt andor cottage cheese on the buffet</td>\n",
       "      <td>2019-08-20</td>\n",
       "      <td>Georgia</td>\n",
       "    </tr>\n",
       "    <tr>\n",
       "      <th>4</th>\n",
       "      <td>great location room was large and spacious parking was easy and we appreciated the friendly staff</td>\n",
       "      <td>2019-08-19</td>\n",
       "      <td>Palm Harbor</td>\n",
       "    </tr>\n",
       "  </tbody>\n",
       "</table>\n",
       "</div>"
      ],
      "text/plain": [
       "                                                                                                                                                                                                                                                                                                                                                                                                                              Review  \\\n",
       "0                                                                                                                                                                                                                                                          i was very impressed with the resort great staff at the main resort pool bar we had a blast with them clean professional staff great location and very reasonable           \n",
       "1                                                                                                                                                                                                                                                                                                                the rooms were nice the outside needs work also no free breakfast it would have been nice overall it was ok           \n",
       "2                                                                                                                                                                                                                                                                                                                                              great location i have stayed at this hotel on my last three trips to new york           \n",
       "3  the hotel was adequate for my stay the strips in the bathtub were use as i fell while taking a shower i asked the front desk staff several times to get a bath mat but they never did management was unresponsive to my request which was very poor someone should have gone to a dollar store and gotten a bath mat breakfast was good but it would have been nice to have had yogurt andor cottage cheese on the buffet           \n",
       "4                                                                                                                                                                                                                                                                                                                          great location room was large and spacious parking was easy and we appreciated the friendly staff           \n",
       "\n",
       "        date     Location  \n",
       "0 2019-08-20    Sebastian  \n",
       "1 2019-08-20  Los Angeles  \n",
       "2 2019-08-20      Georgia  \n",
       "3 2019-08-20      Georgia  \n",
       "4 2019-08-19  Palm Harbor  "
      ]
     },
     "execution_count": 18,
     "metadata": {},
     "output_type": "execute_result"
    }
   ],
   "source": [
    "df.head()"
   ]
  },
  {
   "cell_type": "code",
   "execution_count": 19,
   "metadata": {},
   "outputs": [],
   "source": [
    "hotel = df.copy()"
   ]
  },
  {
   "cell_type": "markdown",
   "metadata": {},
   "source": [
    "# Importing TextBlob"
   ]
  },
  {
   "cell_type": "code",
   "execution_count": 20,
   "metadata": {},
   "outputs": [],
   "source": [
    "from textblob import TextBlob as tb # for sentiment analysis"
   ]
  },
  {
   "cell_type": "markdown",
   "metadata": {},
   "source": [
    "## As the dataset does not come with any column that tells the sentiment of the user reviews. I need to detect it for further analysis.\n",
    "\n",
    "## There was other way from textblob,  That I can feed this dataset in to another Machine Learning model to detecting sentiment behind these comments. But I choose using textblob.\n"
   ]
  },
  {
   "cell_type": "code",
   "execution_count": 21,
   "metadata": {},
   "outputs": [],
   "source": [
    "hotel['Review Polarity'] = hotel['Review'].apply(lambda x: tb(x).sentiment.polarity)\n",
    "hotel['Review Subjectivity'] = hotel['Review'].apply(lambda x: tb(x).sentiment.subjectivity)"
   ]
  },
  {
   "cell_type": "code",
   "execution_count": 22,
   "metadata": {},
   "outputs": [],
   "source": [
    "hotel['Review Polarity'] = hotel['Review Polarity'].apply(lambda x: '{:.2f}'.format(x))\n",
    "hotel['Review Subjectivity'] = hotel['Review Subjectivity'].apply(lambda x: '{:.2f}'.format(x))"
   ]
  },
  {
   "cell_type": "code",
   "execution_count": 23,
   "metadata": {},
   "outputs": [
    {
     "data": {
      "text/html": [
       "<div>\n",
       "<style scoped>\n",
       "    .dataframe tbody tr th:only-of-type {\n",
       "        vertical-align: middle;\n",
       "    }\n",
       "\n",
       "    .dataframe tbody tr th {\n",
       "        vertical-align: top;\n",
       "    }\n",
       "\n",
       "    .dataframe thead th {\n",
       "        text-align: right;\n",
       "    }\n",
       "</style>\n",
       "<table border=\"1\" class=\"dataframe\">\n",
       "  <thead>\n",
       "    <tr style=\"text-align: right;\">\n",
       "      <th></th>\n",
       "      <th>Review</th>\n",
       "      <th>date</th>\n",
       "      <th>Location</th>\n",
       "      <th>Review Polarity</th>\n",
       "      <th>Review Subjectivity</th>\n",
       "    </tr>\n",
       "  </thead>\n",
       "  <tbody>\n",
       "    <tr>\n",
       "      <th>0</th>\n",
       "      <td>i was very impressed with the resort great staff at the main resort pool bar we had a blast with them clean professional staff great location and very reasonable</td>\n",
       "      <td>2019-08-20</td>\n",
       "      <td>Sebastian</td>\n",
       "      <td>0.50</td>\n",
       "      <td>0.63</td>\n",
       "    </tr>\n",
       "    <tr>\n",
       "      <th>1</th>\n",
       "      <td>the rooms were nice the outside needs work also no free breakfast it would have been nice overall it was ok</td>\n",
       "      <td>2019-08-20</td>\n",
       "      <td>Los Angeles</td>\n",
       "      <td>0.25</td>\n",
       "      <td>0.56</td>\n",
       "    </tr>\n",
       "    <tr>\n",
       "      <th>2</th>\n",
       "      <td>great location i have stayed at this hotel on my last three trips to new york</td>\n",
       "      <td>2019-08-20</td>\n",
       "      <td>Georgia</td>\n",
       "      <td>0.31</td>\n",
       "      <td>0.42</td>\n",
       "    </tr>\n",
       "    <tr>\n",
       "      <th>3</th>\n",
       "      <td>the hotel was adequate for my stay the strips in the bathtub were use as i fell while taking a shower i asked the front desk staff several times to get a bath mat but they never did management was unresponsive to my request which was very poor someone should have gone to a dollar store and gotten a bath mat breakfast was good but it would have been nice to have had yogurt andor cottage cheese on the buffet</td>\n",
       "      <td>2019-08-20</td>\n",
       "      <td>Georgia</td>\n",
       "      <td>0.22</td>\n",
       "      <td>0.54</td>\n",
       "    </tr>\n",
       "    <tr>\n",
       "      <th>4</th>\n",
       "      <td>great location room was large and spacious parking was easy and we appreciated the friendly staff</td>\n",
       "      <td>2019-08-19</td>\n",
       "      <td>Palm Harbor</td>\n",
       "      <td>0.40</td>\n",
       "      <td>0.52</td>\n",
       "    </tr>\n",
       "    <tr>\n",
       "      <th>5</th>\n",
       "      <td>all the options for fun were great do wish there were a better policy on the lazy river floats lots of people hoarding them</td>\n",
       "      <td>2019-08-19</td>\n",
       "      <td>Palm Harbor</td>\n",
       "      <td>0.34</td>\n",
       "      <td>0.61</td>\n",
       "    </tr>\n",
       "    <tr>\n",
       "      <th>6</th>\n",
       "      <td>old musty motel  bath need an update asap</td>\n",
       "      <td>2019-08-19</td>\n",
       "      <td>Palm Harbor</td>\n",
       "      <td>0.10</td>\n",
       "      <td>0.20</td>\n",
       "    </tr>\n",
       "    <tr>\n",
       "      <th>7</th>\n",
       "      <td>loved the layout of the hotel and the relaxing pool area only con was housekeepingmaintenance staff passing the room with carts and speaking loudly on radios at 7730 am</td>\n",
       "      <td>2019-08-19</td>\n",
       "      <td>Palm Harbor</td>\n",
       "      <td>0.27</td>\n",
       "      <td>0.87</td>\n",
       "    </tr>\n",
       "    <tr>\n",
       "      <th>8</th>\n",
       "      <td>my wife and i loved everything about it it’s close to everything and everywhere  we will be recommending to others and we will definitely be back</td>\n",
       "      <td>2019-08-19</td>\n",
       "      <td>Palm Harbor</td>\n",
       "      <td>0.35</td>\n",
       "      <td>0.40</td>\n",
       "    </tr>\n",
       "    <tr>\n",
       "      <th>9</th>\n",
       "      <td>rooms were very small was told i had a complimentary upgrade to a empire state building view room but it was a regular room everything else was ok</td>\n",
       "      <td>2019-08-19</td>\n",
       "      <td>Palm Harbor</td>\n",
       "      <td>0.12</td>\n",
       "      <td>0.40</td>\n",
       "    </tr>\n",
       "  </tbody>\n",
       "</table>\n",
       "</div>"
      ],
      "text/plain": [
       "                                                                                                                                                                                                                                                                                                                                                                                                                              Review  \\\n",
       "0                                                                                                                                                                                                                                                          i was very impressed with the resort great staff at the main resort pool bar we had a blast with them clean professional staff great location and very reasonable           \n",
       "1                                                                                                                                                                                                                                                                                                                the rooms were nice the outside needs work also no free breakfast it would have been nice overall it was ok           \n",
       "2                                                                                                                                                                                                                                                                                                                                              great location i have stayed at this hotel on my last three trips to new york           \n",
       "3  the hotel was adequate for my stay the strips in the bathtub were use as i fell while taking a shower i asked the front desk staff several times to get a bath mat but they never did management was unresponsive to my request which was very poor someone should have gone to a dollar store and gotten a bath mat breakfast was good but it would have been nice to have had yogurt andor cottage cheese on the buffet           \n",
       "4                                                                                                                                                                                                                                                                                                                          great location room was large and spacious parking was easy and we appreciated the friendly staff           \n",
       "5                                                                                                                                                                                                                                                                                                all the options for fun were great do wish there were a better policy on the lazy river floats lots of people hoarding them           \n",
       "6                                                                                                                                                                                                                                                                                                                                                                                 old musty motel  bath need an update asap            \n",
       "7                                                                                                                                                                                                                                                   loved the layout of the hotel and the relaxing pool area only con was housekeepingmaintenance staff passing the room with carts and speaking loudly on radios at 7730 am           \n",
       "8                                                                                                                                                                                                                                                                          my wife and i loved everything about it it’s close to everything and everywhere  we will be recommending to others and we will definitely be back           \n",
       "9                                                                                                                                                                                                                                                                         rooms were very small was told i had a complimentary upgrade to a empire state building view room but it was a regular room everything else was ok           \n",
       "\n",
       "        date     Location Review Polarity Review Subjectivity  \n",
       "0 2019-08-20    Sebastian            0.50                0.63  \n",
       "1 2019-08-20  Los Angeles            0.25                0.56  \n",
       "2 2019-08-20      Georgia            0.31                0.42  \n",
       "3 2019-08-20      Georgia            0.22                0.54  \n",
       "4 2019-08-19  Palm Harbor            0.40                0.52  \n",
       "5 2019-08-19  Palm Harbor            0.34                0.61  \n",
       "6 2019-08-19  Palm Harbor            0.10                0.20  \n",
       "7 2019-08-19  Palm Harbor            0.27                0.87  \n",
       "8 2019-08-19  Palm Harbor            0.35                0.40  \n",
       "9 2019-08-19  Palm Harbor            0.12                0.40  "
      ]
     },
     "execution_count": 23,
     "metadata": {},
     "output_type": "execute_result"
    }
   ],
   "source": [
    "hotel.head(10)"
   ]
  },
  {
   "cell_type": "markdown",
   "metadata": {},
   "source": [
    "<b>Polarity</b>: How positive or negative a word is. -1 is very negative. +1 is very positive.\\\n",
    "<b>Subjectivity</b>: How subjective, or opinionated a word is. 0 is fact. +1 is very much an opinion.\n",
    "\n",
    "In here i will not use Subjectivity score that much, all i need the sentiment score"
   ]
  },
  {
   "cell_type": "markdown",
   "metadata": {},
   "source": [
    "A function that will give me two category <b>\"Positive\"</b> and <b>\"Negative\"</b> depends on Polarity Score"
   ]
  },
  {
   "cell_type": "code",
   "execution_count": 24,
   "metadata": {},
   "outputs": [],
   "source": [
    "def get_pos_neg(num):\n",
    "    if num <= 0.00:\n",
    "        return ('Negative')\n",
    "    else:\n",
    "        return ('Positive')"
   ]
  },
  {
   "cell_type": "code",
   "execution_count": 69,
   "metadata": {},
   "outputs": [],
   "source": [
    "hotel['Review Polarity'] = hotel['Review Polarity'].astype(float)\n",
    "hotel['Review Subjectivity'] = hotel['Review Subjectivity'].astype(float)"
   ]
  },
  {
   "cell_type": "code",
   "execution_count": 26,
   "metadata": {},
   "outputs": [],
   "source": [
    "hotel['Review Category'] = hotel['Review Polarity'].apply(get_pos_neg)"
   ]
  },
  {
   "cell_type": "code",
   "execution_count": 27,
   "metadata": {},
   "outputs": [
    {
     "data": {
      "text/html": [
       "<div>\n",
       "<style scoped>\n",
       "    .dataframe tbody tr th:only-of-type {\n",
       "        vertical-align: middle;\n",
       "    }\n",
       "\n",
       "    .dataframe tbody tr th {\n",
       "        vertical-align: top;\n",
       "    }\n",
       "\n",
       "    .dataframe thead th {\n",
       "        text-align: right;\n",
       "    }\n",
       "</style>\n",
       "<table border=\"1\" class=\"dataframe\">\n",
       "  <thead>\n",
       "    <tr style=\"text-align: right;\">\n",
       "      <th></th>\n",
       "      <th>Review</th>\n",
       "      <th>date</th>\n",
       "      <th>Location</th>\n",
       "      <th>Review Polarity</th>\n",
       "      <th>Review Subjectivity</th>\n",
       "      <th>Review Category</th>\n",
       "    </tr>\n",
       "  </thead>\n",
       "  <tbody>\n",
       "    <tr>\n",
       "      <th>0</th>\n",
       "      <td>i was very impressed with the resort great staff at the main resort pool bar we had a blast with them clean professional staff great location and very reasonable</td>\n",
       "      <td>2019-08-20</td>\n",
       "      <td>Sebastian</td>\n",
       "      <td>0.50</td>\n",
       "      <td>0.63</td>\n",
       "      <td>Positive</td>\n",
       "    </tr>\n",
       "    <tr>\n",
       "      <th>1</th>\n",
       "      <td>the rooms were nice the outside needs work also no free breakfast it would have been nice overall it was ok</td>\n",
       "      <td>2019-08-20</td>\n",
       "      <td>Los Angeles</td>\n",
       "      <td>0.25</td>\n",
       "      <td>0.56</td>\n",
       "      <td>Positive</td>\n",
       "    </tr>\n",
       "    <tr>\n",
       "      <th>2</th>\n",
       "      <td>great location i have stayed at this hotel on my last three trips to new york</td>\n",
       "      <td>2019-08-20</td>\n",
       "      <td>Georgia</td>\n",
       "      <td>0.31</td>\n",
       "      <td>0.42</td>\n",
       "      <td>Positive</td>\n",
       "    </tr>\n",
       "    <tr>\n",
       "      <th>3</th>\n",
       "      <td>the hotel was adequate for my stay the strips in the bathtub were use as i fell while taking a shower i asked the front desk staff several times to get a bath mat but they never did management was unresponsive to my request which was very poor someone should have gone to a dollar store and gotten a bath mat breakfast was good but it would have been nice to have had yogurt andor cottage cheese on the buffet</td>\n",
       "      <td>2019-08-20</td>\n",
       "      <td>Georgia</td>\n",
       "      <td>0.22</td>\n",
       "      <td>0.54</td>\n",
       "      <td>Positive</td>\n",
       "    </tr>\n",
       "    <tr>\n",
       "      <th>4</th>\n",
       "      <td>great location room was large and spacious parking was easy and we appreciated the friendly staff</td>\n",
       "      <td>2019-08-19</td>\n",
       "      <td>Palm Harbor</td>\n",
       "      <td>0.40</td>\n",
       "      <td>0.52</td>\n",
       "      <td>Positive</td>\n",
       "    </tr>\n",
       "  </tbody>\n",
       "</table>\n",
       "</div>"
      ],
      "text/plain": [
       "                                                                                                                                                                                                                                                                                                                                                                                                                              Review  \\\n",
       "0                                                                                                                                                                                                                                                          i was very impressed with the resort great staff at the main resort pool bar we had a blast with them clean professional staff great location and very reasonable           \n",
       "1                                                                                                                                                                                                                                                                                                                the rooms were nice the outside needs work also no free breakfast it would have been nice overall it was ok           \n",
       "2                                                                                                                                                                                                                                                                                                                                              great location i have stayed at this hotel on my last three trips to new york           \n",
       "3  the hotel was adequate for my stay the strips in the bathtub were use as i fell while taking a shower i asked the front desk staff several times to get a bath mat but they never did management was unresponsive to my request which was very poor someone should have gone to a dollar store and gotten a bath mat breakfast was good but it would have been nice to have had yogurt andor cottage cheese on the buffet           \n",
       "4                                                                                                                                                                                                                                                                                                                          great location room was large and spacious parking was easy and we appreciated the friendly staff           \n",
       "\n",
       "        date     Location  Review Polarity Review Subjectivity Review Category  \n",
       "0 2019-08-20    Sebastian             0.50                0.63        Positive  \n",
       "1 2019-08-20  Los Angeles             0.25                0.56        Positive  \n",
       "2 2019-08-20      Georgia             0.31                0.42        Positive  \n",
       "3 2019-08-20      Georgia             0.22                0.54        Positive  \n",
       "4 2019-08-19  Palm Harbor             0.40                0.52        Positive  "
      ]
     },
     "execution_count": 27,
     "metadata": {},
     "output_type": "execute_result"
    }
   ],
   "source": [
    "hotel.head()"
   ]
  },
  {
   "cell_type": "markdown",
   "metadata": {},
   "source": [
    "## Starting Analysis"
   ]
  },
  {
   "cell_type": "markdown",
   "metadata": {},
   "source": [
    "First let's check how much positive and negative feedback are here."
   ]
  },
  {
   "cell_type": "code",
   "execution_count": 28,
   "metadata": {},
   "outputs": [
    {
     "data": {
      "text/plain": [
       "Positive    4675\n",
       "Negative    1773\n",
       "Name: Review Category, dtype: int64"
      ]
     },
     "execution_count": 28,
     "metadata": {},
     "output_type": "execute_result"
    }
   ],
   "source": [
    "hotel_cat = hotel['Review Category'].value_counts()\n",
    "hotel_cat"
   ]
  },
  {
   "cell_type": "code",
   "execution_count": 29,
   "metadata": {},
   "outputs": [
    {
     "data": {
      "image/png": "[encoded data removed]",
      "text/plain": [
       "<Figure size 1080x576 with 1 Axes>"
      ]
     },
     "metadata": {
      "needs_background": "light"
     },
     "output_type": "display_data"
    }
   ],
   "source": [
    "plt.bar(hotel_cat.index, hotel_cat.values, color=['#292734','#FFFF48'])\n",
    "plt.title(\"Overall Review Category\", fontsize=18)\n",
    "plt.xlabel(\"Review Category\", fontsize=15)\n",
    "plt.ylabel('Review Count', fontsize=15)\n",
    "plt.xticks(fontsize=14)\n",
    "plt.yticks(fontsize=14)\n",
    "plt.grid(True)\n",
    "plt.show()"
   ]
  },
  {
   "cell_type": "markdown",
   "metadata": {},
   "source": [
    "## Checking Location Column"
   ]
  },
  {
   "cell_type": "code",
   "execution_count": 30,
   "metadata": {},
   "outputs": [
    {
     "name": "stdout",
     "output_type": "stream",
     "text": [
      "['Sebastian' 'Los Angeles' 'Georgia' ... 'India' 'Malaysia'\n",
      " 'Trinidad and Tobago']\n",
      "1082\n"
     ]
    }
   ],
   "source": [
    "print(hotel['Location'].unique())\n",
    "print(hotel['Location'].nunique())"
   ]
  },
  {
   "cell_type": "markdown",
   "metadata": {},
   "source": [
    "1082 cities are there"
   ]
  },
  {
   "cell_type": "code",
   "execution_count": 31,
   "metadata": {},
   "outputs": [
    {
     "data": {
      "text/plain": [
       "CT                          917\n",
       "United States of America    116\n",
       "New York                    105\n",
       "California                   72\n",
       "San Jose                     65\n",
       "Chicago                      53\n",
       "New York, NY                 48\n",
       "Toronto                      42\n",
       "Seattle                      37\n",
       "Boston                       37\n",
       "Los Angeles                  37\n",
       "Philadelphia, PA             37\n",
       "NY                           36\n",
       "Florida                      36\n",
       "Washington, DC               34\n",
       "Tampa                        33\n",
       "Miami                        33\n",
       "Washington DC                30\n",
       "NYC                          30\n",
       "Dinuba California            29\n",
       "Name: Location, dtype: int64"
      ]
     },
     "execution_count": 31,
     "metadata": {},
     "output_type": "execute_result"
    }
   ],
   "source": [
    "overall_hotel_loc = hotel['Location'].value_counts()[:20]\n",
    "overall_hotel_loc"
   ]
  },
  {
   "cell_type": "code",
   "execution_count": 32,
   "metadata": {},
   "outputs": [
    {
     "data": {
      "image/png": "[encoded data removed]",
      "text/plain": [
       "<Figure size 1080x576 with 1 Axes>"
      ]
     },
     "metadata": {
      "needs_background": "light"
     },
     "output_type": "display_data"
    }
   ],
   "source": [
    "plt.bar(overall_hotel_loc.index, overall_hotel_loc.values, color=['#CD202D','#15244C','#FFFF48','#292734','#EF2920','#ECC5F2',\n",
    "               '#294A73','#D4480B','#242307','#FD511F','#158EA6','#E82865'],alpha=0.7)\n",
    "\n",
    "plt.title(\"Top 20 Location\", fontsize= 18)\n",
    "plt.xlabel('Cities', fontsize=15)\n",
    "plt.ylabel('Counts', fontsize=15)\n",
    "plt.xticks(fontsize=14, rotation=90)\n",
    "plt.yticks(fontsize=14)\n",
    "\n",
    "count = 0\n",
    "for i in overall_hotel_loc.values:\n",
    "    plt.text(count-0.3,i+1,str(i),size=15,color='black') \n",
    "    count+=1\n",
    "plt.show()"
   ]
  },
  {
   "cell_type": "markdown",
   "metadata": {},
   "source": [
    "According to the dataset these are top 20 cities to give review."
   ]
  },
  {
   "cell_type": "markdown",
   "metadata": {},
   "source": [
    "The <b>' CT '</b> cities is highest to give review"
   ]
  },
  {
   "cell_type": "markdown",
   "metadata": {},
   "source": [
    "Filtering <b>\" CT \"</b> Location in to a different dataframe"
   ]
  },
  {
   "cell_type": "code",
   "execution_count": 33,
   "metadata": {},
   "outputs": [
    {
     "data": {
      "text/html": [
       "<div>\n",
       "<style scoped>\n",
       "    .dataframe tbody tr th:only-of-type {\n",
       "        vertical-align: middle;\n",
       "    }\n",
       "\n",
       "    .dataframe tbody tr th {\n",
       "        vertical-align: top;\n",
       "    }\n",
       "\n",
       "    .dataframe thead th {\n",
       "        text-align: right;\n",
       "    }\n",
       "</style>\n",
       "<table border=\"1\" class=\"dataframe\">\n",
       "  <thead>\n",
       "    <tr style=\"text-align: right;\">\n",
       "      <th></th>\n",
       "      <th>Review</th>\n",
       "      <th>date</th>\n",
       "      <th>Location</th>\n",
       "      <th>Review Polarity</th>\n",
       "      <th>Review Subjectivity</th>\n",
       "      <th>Review Category</th>\n",
       "    </tr>\n",
       "  </thead>\n",
       "  <tbody>\n",
       "    <tr>\n",
       "      <th>2659</th>\n",
       "      <td>wonderful historic property  clean great water pressure in shower clean friendly people clean convenient location did i mention clean cleanliness is very important to me  great room with a view thanks to the front desk</td>\n",
       "      <td>2019-01-28</td>\n",
       "      <td>CT</td>\n",
       "      <td>0.47</td>\n",
       "      <td>0.64</td>\n",
       "      <td>Positive</td>\n",
       "    </tr>\n",
       "    <tr>\n",
       "      <th>4010</th>\n",
       "      <td>the hotel was nicely located and the staff were awesome however the remote control and coffee maker were filthy and unusable there was no top sheet on the bed just a thin comforter</td>\n",
       "      <td>2018-11-10</td>\n",
       "      <td>CT</td>\n",
       "      <td>0.01</td>\n",
       "      <td>0.76</td>\n",
       "      <td>Positive</td>\n",
       "    </tr>\n",
       "    <tr>\n",
       "      <th>4011</th>\n",
       "      <td>the tryp hotel was very disappointing the lobby felt like a dormitory or a mcdonalds no place to sit room was dimly lit and decor strange but not at all in a cool old way no place to put suitcases so they were on the beds housekeeping did not come until we called twice someone finally cleaned room around 530 pm the pillows felt like someone had stuffed them with socks as they were very lumpy and very small coffee machine in room never worked somehow in this day and age they managed to find a tv without hd so picture quality was very poor towels were so scratchy they felt like sandpaper it was a hard rain one morning but of course the hotel did nothing to offer umbrellas for their guests to use never ate anything there  can only imagine the food would be subpar i would suggest you stay ...</td>\n",
       "      <td>2018-11-10</td>\n",
       "      <td>CT</td>\n",
       "      <td>-0.11</td>\n",
       "      <td>0.60</td>\n",
       "      <td>Negative</td>\n",
       "    </tr>\n",
       "    <tr>\n",
       "      <th>4012</th>\n",
       "      <td>nan</td>\n",
       "      <td>2018-11-10</td>\n",
       "      <td>CT</td>\n",
       "      <td>0.00</td>\n",
       "      <td>0.00</td>\n",
       "      <td>Negative</td>\n",
       "    </tr>\n",
       "    <tr>\n",
       "      <th>4013</th>\n",
       "      <td>beautiful facilities great customer service convenient to shopping and entertainment</td>\n",
       "      <td>2018-11-10</td>\n",
       "      <td>CT</td>\n",
       "      <td>0.82</td>\n",
       "      <td>0.88</td>\n",
       "      <td>Positive</td>\n",
       "    </tr>\n",
       "  </tbody>\n",
       "</table>\n",
       "</div>"
      ],
      "text/plain": [
       "                                                                                                                                                                                                                                                                                                                                                                                                                                                                                                                                                                                                                                                                                                                                                                                                                               Review  \\\n",
       "2659                                                                                                                                                                                                                                                                                                                                                                                                                                                                                                                                                                                               wonderful historic property  clean great water pressure in shower clean friendly people clean convenient location did i mention clean cleanliness is very important to me  great room with a view thanks to the front desk           \n",
       "4010                                                                                                                                                                                                                                                                                                                                                                                                                                                                                                                                                                                                                                     the hotel was nicely located and the staff were awesome however the remote control and coffee maker were filthy and unusable there was no top sheet on the bed just a thin comforter           \n",
       "4011  the tryp hotel was very disappointing the lobby felt like a dormitory or a mcdonalds no place to sit room was dimly lit and decor strange but not at all in a cool old way no place to put suitcases so they were on the beds housekeeping did not come until we called twice someone finally cleaned room around 530 pm the pillows felt like someone had stuffed them with socks as they were very lumpy and very small coffee machine in room never worked somehow in this day and age they managed to find a tv without hd so picture quality was very poor towels were so scratchy they felt like sandpaper it was a hard rain one morning but of course the hotel did nothing to offer umbrellas for their guests to use never ate anything there  can only imagine the food would be subpar i would suggest you stay ...   \n",
       "4012                                                                                                                                                                                                                                                                                                                                                                                                                                                                                                                                                                                                                                                                                                                                                                                                                              nan   \n",
       "4013                                                                                                                                                                                                                                                                                                                                                                                                                                                                                                                                                                                                                                                                                                                                     beautiful facilities great customer service convenient to shopping and entertainment           \n",
       "\n",
       "           date Location  Review Polarity Review Subjectivity Review Category  \n",
       "2659 2019-01-28       CT             0.47                0.64        Positive  \n",
       "4010 2018-11-10       CT             0.01                0.76        Positive  \n",
       "4011 2018-11-10       CT            -0.11                0.60        Negative  \n",
       "4012 2018-11-10       CT             0.00                0.00        Negative  \n",
       "4013 2018-11-10       CT             0.82                0.88        Positive  "
      ]
     },
     "execution_count": 33,
     "metadata": {},
     "output_type": "execute_result"
    }
   ],
   "source": [
    "CT_hotel = hotel[hotel['Location'] == 'CT']\n",
    "\n",
    "CT_hotel.head()"
   ]
  },
  {
   "cell_type": "code",
   "execution_count": 34,
   "metadata": {},
   "outputs": [
    {
     "data": {
      "text/plain": [
       "917"
      ]
     },
     "execution_count": 34,
     "metadata": {},
     "output_type": "execute_result"
    }
   ],
   "source": [
    "len(CT_hotel) #checking the length of the dataframe, to assured the filtering."
   ]
  },
  {
   "cell_type": "code",
   "execution_count": 35,
   "metadata": {},
   "outputs": [
    {
     "data": {
      "text/plain": [
       "Positive    769\n",
       "Negative    148\n",
       "Name: Review Category, dtype: int64"
      ]
     },
     "execution_count": 35,
     "metadata": {},
     "output_type": "execute_result"
    }
   ],
   "source": [
    "CT_hotel_cat = CT_hotel['Review Category'].value_counts()\n",
    "CT_hotel_cat"
   ]
  },
  {
   "cell_type": "code",
   "execution_count": 36,
   "metadata": {},
   "outputs": [
    {
     "data": {
      "image/png": "[encoded data removed]",
      "text/plain": [
       "<Figure size 1080x576 with 1 Axes>"
      ]
     },
     "metadata": {
      "needs_background": "light"
     },
     "output_type": "display_data"
    }
   ],
   "source": [
    "plt.bar(CT_hotel_cat.index, CT_hotel_cat.values, color=['#CD202D','#15244C'])\n",
    "plt.title(\"Hotel are in 'CT' - Review Category\", fontsize=18)\n",
    "plt.xlabel(\"Review Category\", fontsize=15)\n",
    "plt.ylabel('Review Count', fontsize=15)\n",
    "plt.xticks(fontsize=14)\n",
    "plt.yticks(fontsize=14)\n",
    "plt.grid(True)\n",
    "plt.show()\n"
   ]
  },
  {
   "cell_type": "markdown",
   "metadata": {},
   "source": [
    "Creating another column \"Month\" to extract month from date"
   ]
  },
  {
   "cell_type": "code",
   "execution_count": 37,
   "metadata": {},
   "outputs": [
    {
     "name": "stderr",
     "output_type": "stream",
     "text": [
      "<ipython-input-37-22f467c5716f>:2: SettingWithCopyWarning: \n",
      "A value is trying to be set on a copy of a slice from a DataFrame.\n",
      "Try using .loc[row_indexer,col_indexer] = value instead\n",
      "\n",
      "See the caveats in the documentation: https://pandas.pydata.org/pandas-docs/stable/user_guide/indexing.html#returning-a-view-versus-a-copy\n",
      "  CT_hotel['Month'] = CT_hotel['date'].dt.month\n"
     ]
    }
   ],
   "source": [
    "import datetime\n",
    "CT_hotel['Month'] = CT_hotel['date'].dt.month"
   ]
  },
  {
   "cell_type": "code",
   "execution_count": 38,
   "metadata": {},
   "outputs": [
    {
     "name": "stderr",
     "output_type": "stream",
     "text": [
      "<ipython-input-38-fa9b62e58f47>:17: SettingWithCopyWarning: \n",
      "A value is trying to be set on a copy of a slice from a DataFrame.\n",
      "Try using .loc[row_indexer,col_indexer] = value instead\n",
      "\n",
      "See the caveats in the documentation: https://pandas.pydata.org/pandas-docs/stable/user_guide/indexing.html#returning-a-view-versus-a-copy\n",
      "  CT_hotel['Month Name'] = CT_hotel['Month'].map(m)\n"
     ]
    }
   ],
   "source": [
    "m = {\n",
    "        1: 'Jan',\n",
    "        2: 'Feb',\n",
    "        3: 'Mar',\n",
    "        4:'Apr',\n",
    "        5:'May',\n",
    "        6:'Jun',\n",
    "        7:'Jul',\n",
    "        8:'Aug',\n",
    "        9:'Sep',\n",
    "        10:'Oct',\n",
    "        11:'Nov',\n",
    "        12:'Dec'\n",
    "        }\n",
    "\n",
    "\n",
    "CT_hotel['Month Name'] = CT_hotel['Month'].map(m)"
   ]
  },
  {
   "cell_type": "code",
   "execution_count": 39,
   "metadata": {},
   "outputs": [
    {
     "data": {
      "text/html": [
       "<div>\n",
       "<style scoped>\n",
       "    .dataframe tbody tr th:only-of-type {\n",
       "        vertical-align: middle;\n",
       "    }\n",
       "\n",
       "    .dataframe tbody tr th {\n",
       "        vertical-align: top;\n",
       "    }\n",
       "\n",
       "    .dataframe thead th {\n",
       "        text-align: right;\n",
       "    }\n",
       "</style>\n",
       "<table border=\"1\" class=\"dataframe\">\n",
       "  <thead>\n",
       "    <tr style=\"text-align: right;\">\n",
       "      <th></th>\n",
       "      <th>Review</th>\n",
       "      <th>date</th>\n",
       "      <th>Location</th>\n",
       "      <th>Review Polarity</th>\n",
       "      <th>Review Subjectivity</th>\n",
       "      <th>Review Category</th>\n",
       "      <th>Month</th>\n",
       "      <th>Month Name</th>\n",
       "    </tr>\n",
       "  </thead>\n",
       "  <tbody>\n",
       "    <tr>\n",
       "      <th>2659</th>\n",
       "      <td>wonderful historic property  clean great water pressure in shower clean friendly people clean convenient location did i mention clean cleanliness is very important to me  great room with a view thanks to the front desk</td>\n",
       "      <td>2019-01-28</td>\n",
       "      <td>CT</td>\n",
       "      <td>0.47</td>\n",
       "      <td>0.64</td>\n",
       "      <td>Positive</td>\n",
       "      <td>1</td>\n",
       "      <td>Jan</td>\n",
       "    </tr>\n",
       "    <tr>\n",
       "      <th>4010</th>\n",
       "      <td>the hotel was nicely located and the staff were awesome however the remote control and coffee maker were filthy and unusable there was no top sheet on the bed just a thin comforter</td>\n",
       "      <td>2018-11-10</td>\n",
       "      <td>CT</td>\n",
       "      <td>0.01</td>\n",
       "      <td>0.76</td>\n",
       "      <td>Positive</td>\n",
       "      <td>11</td>\n",
       "      <td>Nov</td>\n",
       "    </tr>\n",
       "    <tr>\n",
       "      <th>4011</th>\n",
       "      <td>the tryp hotel was very disappointing the lobby felt like a dormitory or a mcdonalds no place to sit room was dimly lit and decor strange but not at all in a cool old way no place to put suitcases so they were on the beds housekeeping did not come until we called twice someone finally cleaned room around 530 pm the pillows felt like someone had stuffed them with socks as they were very lumpy and very small coffee machine in room never worked somehow in this day and age they managed to find a tv without hd so picture quality was very poor towels were so scratchy they felt like sandpaper it was a hard rain one morning but of course the hotel did nothing to offer umbrellas for their guests to use never ate anything there  can only imagine the food would be subpar i would suggest you stay ...</td>\n",
       "      <td>2018-11-10</td>\n",
       "      <td>CT</td>\n",
       "      <td>-0.11</td>\n",
       "      <td>0.60</td>\n",
       "      <td>Negative</td>\n",
       "      <td>11</td>\n",
       "      <td>Nov</td>\n",
       "    </tr>\n",
       "    <tr>\n",
       "      <th>4012</th>\n",
       "      <td>nan</td>\n",
       "      <td>2018-11-10</td>\n",
       "      <td>CT</td>\n",
       "      <td>0.00</td>\n",
       "      <td>0.00</td>\n",
       "      <td>Negative</td>\n",
       "      <td>11</td>\n",
       "      <td>Nov</td>\n",
       "    </tr>\n",
       "    <tr>\n",
       "      <th>4013</th>\n",
       "      <td>beautiful facilities great customer service convenient to shopping and entertainment</td>\n",
       "      <td>2018-11-10</td>\n",
       "      <td>CT</td>\n",
       "      <td>0.82</td>\n",
       "      <td>0.88</td>\n",
       "      <td>Positive</td>\n",
       "      <td>11</td>\n",
       "      <td>Nov</td>\n",
       "    </tr>\n",
       "  </tbody>\n",
       "</table>\n",
       "</div>"
      ],
      "text/plain": [
       "                                                                                                                                                                                                                                                                                                                                                                                                                                                                                                                                                                                                                                                                                                                                                                                                                               Review  \\\n",
       "2659                                                                                                                                                                                                                                                                                                                                                                                                                                                                                                                                                                                               wonderful historic property  clean great water pressure in shower clean friendly people clean convenient location did i mention clean cleanliness is very important to me  great room with a view thanks to the front desk           \n",
       "4010                                                                                                                                                                                                                                                                                                                                                                                                                                                                                                                                                                                                                                     the hotel was nicely located and the staff were awesome however the remote control and coffee maker were filthy and unusable there was no top sheet on the bed just a thin comforter           \n",
       "4011  the tryp hotel was very disappointing the lobby felt like a dormitory or a mcdonalds no place to sit room was dimly lit and decor strange but not at all in a cool old way no place to put suitcases so they were on the beds housekeeping did not come until we called twice someone finally cleaned room around 530 pm the pillows felt like someone had stuffed them with socks as they were very lumpy and very small coffee machine in room never worked somehow in this day and age they managed to find a tv without hd so picture quality was very poor towels were so scratchy they felt like sandpaper it was a hard rain one morning but of course the hotel did nothing to offer umbrellas for their guests to use never ate anything there  can only imagine the food would be subpar i would suggest you stay ...   \n",
       "4012                                                                                                                                                                                                                                                                                                                                                                                                                                                                                                                                                                                                                                                                                                                                                                                                                              nan   \n",
       "4013                                                                                                                                                                                                                                                                                                                                                                                                                                                                                                                                                                                                                                                                                                                                     beautiful facilities great customer service convenient to shopping and entertainment           \n",
       "\n",
       "           date Location  Review Polarity Review Subjectivity Review Category  \\\n",
       "2659 2019-01-28       CT             0.47                0.64        Positive   \n",
       "4010 2018-11-10       CT             0.01                0.76        Positive   \n",
       "4011 2018-11-10       CT            -0.11                0.60        Negative   \n",
       "4012 2018-11-10       CT             0.00                0.00        Negative   \n",
       "4013 2018-11-10       CT             0.82                0.88        Positive   \n",
       "\n",
       "      Month Month Name  \n",
       "2659      1        Jan  \n",
       "4010     11        Nov  \n",
       "4011     11        Nov  \n",
       "4012     11        Nov  \n",
       "4013     11        Nov  "
      ]
     },
     "execution_count": 39,
     "metadata": {},
     "output_type": "execute_result"
    }
   ],
   "source": [
    "CT_hotel.head()"
   ]
  },
  {
   "cell_type": "code",
   "execution_count": 40,
   "metadata": {},
   "outputs": [
    {
     "data": {
      "text/plain": [
       "Jun    145\n",
       "May    121\n",
       "Jul     92\n",
       "Mar     88\n",
       "Feb     84\n",
       "Sep     71\n",
       "Nov     71\n",
       "Oct     66\n",
       "Aug     66\n",
       "Dec     57\n",
       "Jan     36\n",
       "Apr     20\n",
       "Name: Month Name, dtype: int64"
      ]
     },
     "execution_count": 40,
     "metadata": {},
     "output_type": "execute_result"
    }
   ],
   "source": [
    "CT_hotel_mon = CT_hotel['Month Name'].value_counts()\n",
    "CT_hotel_mon"
   ]
  },
  {
   "cell_type": "code",
   "execution_count": 41,
   "metadata": {},
   "outputs": [
    {
     "data": {
      "image/png": "[encoded data removed]",
      "text/plain": [
       "<Figure size 1080x576 with 1 Axes>"
      ]
     },
     "metadata": {
      "needs_background": "light"
     },
     "output_type": "display_data"
    }
   ],
   "source": [
    "plt.bar(CT_hotel_mon.index, CT_hotel_mon.values, color=['#CD202D','#15244C','#FFFF48','#292734','#EF2920','#ECC5F2',\n",
    "               '#294A73','#D4480B','#242307','#FD511F','#158EA6','#E82865'],alpha=0.7)\n",
    "\n",
    "plt.title(\"'CT'- Place Hotel Visiting Months\", fontsize= 18)\n",
    "plt.xlabel('Months', fontsize=15)\n",
    "plt.ylabel('Counts', fontsize=15)\n",
    "plt.xticks(fontsize=14)\n",
    "plt.yticks(fontsize=14)\n",
    "\n",
    "count = 0\n",
    "for i in CT_hotel_mon.values:\n",
    "    plt.text(count-0.3,i+1,str(i),size=15,color='black') \n",
    "    count+=1"
   ]
  },
  {
   "cell_type": "markdown",
   "metadata": {},
   "source": [
    "According to the dataset <b>\"Jun\"</b>, <b>\"May\"</b>, <b>\"Jul\"</b>, people are most stays at hotel at <b>\"CT\"</b>."
   ]
  },
  {
   "cell_type": "markdown",
   "metadata": {},
   "source": [
    "## Working with 'date' column"
   ]
  },
  {
   "cell_type": "markdown",
   "metadata": {},
   "source": [
    "Like CT_hotel, Creating month column for main dataframe."
   ]
  },
  {
   "cell_type": "code",
   "execution_count": 42,
   "metadata": {},
   "outputs": [],
   "source": [
    "hotel['Month'] = hotel['date'].dt.month\n",
    "hotel['Month Name'] = hotel['Month'].map(m)"
   ]
  },
  {
   "cell_type": "code",
   "execution_count": 43,
   "metadata": {},
   "outputs": [
    {
     "data": {
      "text/html": [
       "<div>\n",
       "<style scoped>\n",
       "    .dataframe tbody tr th:only-of-type {\n",
       "        vertical-align: middle;\n",
       "    }\n",
       "\n",
       "    .dataframe tbody tr th {\n",
       "        vertical-align: top;\n",
       "    }\n",
       "\n",
       "    .dataframe thead th {\n",
       "        text-align: right;\n",
       "    }\n",
       "</style>\n",
       "<table border=\"1\" class=\"dataframe\">\n",
       "  <thead>\n",
       "    <tr style=\"text-align: right;\">\n",
       "      <th></th>\n",
       "      <th>Review</th>\n",
       "      <th>date</th>\n",
       "      <th>Location</th>\n",
       "      <th>Review Polarity</th>\n",
       "      <th>Review Subjectivity</th>\n",
       "      <th>Review Category</th>\n",
       "      <th>Month</th>\n",
       "      <th>Month Name</th>\n",
       "    </tr>\n",
       "  </thead>\n",
       "  <tbody>\n",
       "    <tr>\n",
       "      <th>0</th>\n",
       "      <td>i was very impressed with the resort great staff at the main resort pool bar we had a blast with them clean professional staff great location and very reasonable</td>\n",
       "      <td>2019-08-20</td>\n",
       "      <td>Sebastian</td>\n",
       "      <td>0.50</td>\n",
       "      <td>0.63</td>\n",
       "      <td>Positive</td>\n",
       "      <td>8</td>\n",
       "      <td>Aug</td>\n",
       "    </tr>\n",
       "    <tr>\n",
       "      <th>1</th>\n",
       "      <td>the rooms were nice the outside needs work also no free breakfast it would have been nice overall it was ok</td>\n",
       "      <td>2019-08-20</td>\n",
       "      <td>Los Angeles</td>\n",
       "      <td>0.25</td>\n",
       "      <td>0.56</td>\n",
       "      <td>Positive</td>\n",
       "      <td>8</td>\n",
       "      <td>Aug</td>\n",
       "    </tr>\n",
       "    <tr>\n",
       "      <th>2</th>\n",
       "      <td>great location i have stayed at this hotel on my last three trips to new york</td>\n",
       "      <td>2019-08-20</td>\n",
       "      <td>Georgia</td>\n",
       "      <td>0.31</td>\n",
       "      <td>0.42</td>\n",
       "      <td>Positive</td>\n",
       "      <td>8</td>\n",
       "      <td>Aug</td>\n",
       "    </tr>\n",
       "    <tr>\n",
       "      <th>3</th>\n",
       "      <td>the hotel was adequate for my stay the strips in the bathtub were use as i fell while taking a shower i asked the front desk staff several times to get a bath mat but they never did management was unresponsive to my request which was very poor someone should have gone to a dollar store and gotten a bath mat breakfast was good but it would have been nice to have had yogurt andor cottage cheese on the buffet</td>\n",
       "      <td>2019-08-20</td>\n",
       "      <td>Georgia</td>\n",
       "      <td>0.22</td>\n",
       "      <td>0.54</td>\n",
       "      <td>Positive</td>\n",
       "      <td>8</td>\n",
       "      <td>Aug</td>\n",
       "    </tr>\n",
       "    <tr>\n",
       "      <th>4</th>\n",
       "      <td>great location room was large and spacious parking was easy and we appreciated the friendly staff</td>\n",
       "      <td>2019-08-19</td>\n",
       "      <td>Palm Harbor</td>\n",
       "      <td>0.40</td>\n",
       "      <td>0.52</td>\n",
       "      <td>Positive</td>\n",
       "      <td>8</td>\n",
       "      <td>Aug</td>\n",
       "    </tr>\n",
       "  </tbody>\n",
       "</table>\n",
       "</div>"
      ],
      "text/plain": [
       "                                                                                                                                                                                                                                                                                                                                                                                                                              Review  \\\n",
       "0                                                                                                                                                                                                                                                          i was very impressed with the resort great staff at the main resort pool bar we had a blast with them clean professional staff great location and very reasonable           \n",
       "1                                                                                                                                                                                                                                                                                                                the rooms were nice the outside needs work also no free breakfast it would have been nice overall it was ok           \n",
       "2                                                                                                                                                                                                                                                                                                                                              great location i have stayed at this hotel on my last three trips to new york           \n",
       "3  the hotel was adequate for my stay the strips in the bathtub were use as i fell while taking a shower i asked the front desk staff several times to get a bath mat but they never did management was unresponsive to my request which was very poor someone should have gone to a dollar store and gotten a bath mat breakfast was good but it would have been nice to have had yogurt andor cottage cheese on the buffet           \n",
       "4                                                                                                                                                                                                                                                                                                                          great location room was large and spacious parking was easy and we appreciated the friendly staff           \n",
       "\n",
       "        date     Location  Review Polarity Review Subjectivity  \\\n",
       "0 2019-08-20    Sebastian             0.50                0.63   \n",
       "1 2019-08-20  Los Angeles             0.25                0.56   \n",
       "2 2019-08-20      Georgia             0.31                0.42   \n",
       "3 2019-08-20      Georgia             0.22                0.54   \n",
       "4 2019-08-19  Palm Harbor             0.40                0.52   \n",
       "\n",
       "  Review Category  Month Month Name  \n",
       "0        Positive      8        Aug  \n",
       "1        Positive      8        Aug  \n",
       "2        Positive      8        Aug  \n",
       "3        Positive      8        Aug  \n",
       "4        Positive      8        Aug  "
      ]
     },
     "execution_count": 43,
     "metadata": {},
     "output_type": "execute_result"
    }
   ],
   "source": [
    "hotel.head()"
   ]
  },
  {
   "cell_type": "code",
   "execution_count": 44,
   "metadata": {},
   "outputs": [
    {
     "data": {
      "text/plain": [
       "Aug    728\n",
       "Dec    630\n",
       "Mar    605\n",
       "Apr    593\n",
       "Jul    549\n",
       "May    526\n",
       "Oct    524\n",
       "Nov    519\n",
       "Jan    513\n",
       "Sep    481\n",
       "Feb    418\n",
       "Jun    362\n",
       "Name: Month Name, dtype: int64"
      ]
     },
     "execution_count": 44,
     "metadata": {},
     "output_type": "execute_result"
    }
   ],
   "source": [
    "hotel_mon = hotel['Month Name'].value_counts()\n",
    "hotel_mon"
   ]
  },
  {
   "cell_type": "code",
   "execution_count": 45,
   "metadata": {},
   "outputs": [
    {
     "data": {
      "image/png": "[encoded data removed]",
      "text/plain": [
       "<Figure size 1080x576 with 1 Axes>"
      ]
     },
     "metadata": {
      "needs_background": "light"
     },
     "output_type": "display_data"
    }
   ],
   "source": [
    "plt.bar(hotel_mon.index, hotel_mon.values, color=['#CD202D','#15244C','#FFFF48','#292734','#EF2920','#ECC5F2',\n",
    "               '#294A73','#D4480B','#242307','#FD511F','#158EA6','#E82865'],alpha=0.7)\n",
    "\n",
    "plt.title(\"Overall Hotel Visiting Months\", fontsize= 18)\n",
    "plt.xlabel('Months', fontsize=15)\n",
    "plt.ylabel('Counts', fontsize=15)\n",
    "plt.xticks(fontsize=14)\n",
    "plt.yticks(fontsize=14)\n",
    "\n",
    "count = 0\n",
    "for i in hotel_mon.values:\n",
    "    plt.text(count-0.3,i+1,str(i),size=15,color='black') \n",
    "    count+=1\n",
    "plt.show()"
   ]
  },
  {
   "cell_type": "markdown",
   "metadata": {},
   "source": [
    "Overall Visiting months are differents from 'CT' \\\n",
    "Here 'Aug', 'Dec', and 'Mar' are the most visiting months"
   ]
  },
  {
   "cell_type": "markdown",
   "metadata": {},
   "source": [
    "## Further with Polarity"
   ]
  },
  {
   "cell_type": "markdown",
   "metadata": {},
   "source": [
    "### Creating a function that will give a depth of review from these comments"
   ]
  },
  {
   "cell_type": "code",
   "execution_count": 61,
   "metadata": {},
   "outputs": [],
   "source": [
    "def depth_rvw(pol):\n",
    "    if pol<=0.00:\n",
    "        return (\"Negative\")\n",
    "    elif pol <=0.20:\n",
    "        return (\"somewhat satisfied\")\n",
    "    elif pol <=0.50:\n",
    "        return (\"satisfied\")\n",
    "    elif pol>0.50:\n",
    "        return (\"very satisfied\")"
   ]
  },
  {
   "cell_type": "code",
   "execution_count": 62,
   "metadata": {},
   "outputs": [],
   "source": [
    "hotel['Depth Review'] = hotel['Review Polarity'].apply(depth_rvw)"
   ]
  },
  {
   "cell_type": "markdown",
   "metadata": {},
   "source": [
    "### Checking the result"
   ]
  },
  {
   "cell_type": "code",
   "execution_count": 63,
   "metadata": {},
   "outputs": [
    {
     "data": {
      "text/html": [
       "<div>\n",
       "<style scoped>\n",
       "    .dataframe tbody tr th:only-of-type {\n",
       "        vertical-align: middle;\n",
       "    }\n",
       "\n",
       "    .dataframe tbody tr th {\n",
       "        vertical-align: top;\n",
       "    }\n",
       "\n",
       "    .dataframe thead th {\n",
       "        text-align: right;\n",
       "    }\n",
       "</style>\n",
       "<table border=\"1\" class=\"dataframe\">\n",
       "  <thead>\n",
       "    <tr style=\"text-align: right;\">\n",
       "      <th></th>\n",
       "      <th>Review</th>\n",
       "      <th>date</th>\n",
       "      <th>Location</th>\n",
       "      <th>Review Polarity</th>\n",
       "      <th>Review Subjectivity</th>\n",
       "      <th>Review Category</th>\n",
       "      <th>Month</th>\n",
       "      <th>Month Name</th>\n",
       "      <th>Depth Review</th>\n",
       "    </tr>\n",
       "  </thead>\n",
       "  <tbody>\n",
       "    <tr>\n",
       "      <th>12</th>\n",
       "      <td>location was great lobby area was nice but room needs to be upgraded</td>\n",
       "      <td>2019-08-19</td>\n",
       "      <td>California</td>\n",
       "      <td>0.70</td>\n",
       "      <td>0.88</td>\n",
       "      <td>Positive</td>\n",
       "      <td>8</td>\n",
       "      <td>Aug</td>\n",
       "      <td>very satisfied</td>\n",
       "    </tr>\n",
       "    <tr>\n",
       "      <th>22</th>\n",
       "      <td>awesome location easy access to sights and subway</td>\n",
       "      <td>2019-08-18</td>\n",
       "      <td>Redding</td>\n",
       "      <td>0.72</td>\n",
       "      <td>0.92</td>\n",
       "      <td>Positive</td>\n",
       "      <td>8</td>\n",
       "      <td>Aug</td>\n",
       "      <td>very satisfied</td>\n",
       "    </tr>\n",
       "    <tr>\n",
       "      <th>28</th>\n",
       "      <td>beautiful art deco building foyer is very ornate and stylish</td>\n",
       "      <td>2019-08-17</td>\n",
       "      <td>Jacksonville</td>\n",
       "      <td>0.52</td>\n",
       "      <td>0.77</td>\n",
       "      <td>Positive</td>\n",
       "      <td>8</td>\n",
       "      <td>Aug</td>\n",
       "      <td>very satisfied</td>\n",
       "    </tr>\n",
       "    <tr>\n",
       "      <th>34</th>\n",
       "      <td>i have stayed for 5 nights great service affordable price</td>\n",
       "      <td>2019-08-17</td>\n",
       "      <td>Grand Cayman, Cayman Islands</td>\n",
       "      <td>0.80</td>\n",
       "      <td>0.75</td>\n",
       "      <td>Positive</td>\n",
       "      <td>8</td>\n",
       "      <td>Aug</td>\n",
       "      <td>very satisfied</td>\n",
       "    </tr>\n",
       "    <tr>\n",
       "      <th>37</th>\n",
       "      <td>was a great place the room had ants but that comes with outside doors lobby service was great though</td>\n",
       "      <td>2019-08-16</td>\n",
       "      <td>Grand Cayman, Cayman Islands</td>\n",
       "      <td>0.53</td>\n",
       "      <td>0.52</td>\n",
       "      <td>Positive</td>\n",
       "      <td>8</td>\n",
       "      <td>Aug</td>\n",
       "      <td>very satisfied</td>\n",
       "    </tr>\n",
       "  </tbody>\n",
       "</table>\n",
       "</div>"
      ],
      "text/plain": [
       "                                                                                                          Review  \\\n",
       "12                                  location was great lobby area was nice but room needs to be upgraded           \n",
       "22                                                     awesome location easy access to sights and subway           \n",
       "28                                          beautiful art deco building foyer is very ornate and stylish           \n",
       "34                                             i have stayed for 5 nights great service affordable price           \n",
       "37  was a great place the room had ants but that comes with outside doors lobby service was great though           \n",
       "\n",
       "         date                      Location  Review Polarity  \\\n",
       "12 2019-08-19                    California             0.70   \n",
       "22 2019-08-18                       Redding             0.72   \n",
       "28 2019-08-17                  Jacksonville             0.52   \n",
       "34 2019-08-17  Grand Cayman, Cayman Islands             0.80   \n",
       "37 2019-08-16  Grand Cayman, Cayman Islands             0.53   \n",
       "\n",
       "   Review Subjectivity Review Category  Month Month Name    Depth Review  \n",
       "12                0.88        Positive      8        Aug  very satisfied  \n",
       "22                0.92        Positive      8        Aug  very satisfied  \n",
       "28                0.77        Positive      8        Aug  very satisfied  \n",
       "34                0.75        Positive      8        Aug  very satisfied  \n",
       "37                0.52        Positive      8        Aug  very satisfied  "
      ]
     },
     "execution_count": 63,
     "metadata": {},
     "output_type": "execute_result"
    }
   ],
   "source": [
    "hotel[hotel['Review Polarity']>0.50].head(5)"
   ]
  },
  {
   "cell_type": "code",
   "execution_count": 65,
   "metadata": {},
   "outputs": [
    {
     "data": {
      "text/html": [
       "<div>\n",
       "<style scoped>\n",
       "    .dataframe tbody tr th:only-of-type {\n",
       "        vertical-align: middle;\n",
       "    }\n",
       "\n",
       "    .dataframe tbody tr th {\n",
       "        vertical-align: top;\n",
       "    }\n",
       "\n",
       "    .dataframe thead th {\n",
       "        text-align: right;\n",
       "    }\n",
       "</style>\n",
       "<table border=\"1\" class=\"dataframe\">\n",
       "  <thead>\n",
       "    <tr style=\"text-align: right;\">\n",
       "      <th></th>\n",
       "      <th>Review</th>\n",
       "      <th>date</th>\n",
       "      <th>Location</th>\n",
       "      <th>Review Polarity</th>\n",
       "      <th>Review Subjectivity</th>\n",
       "      <th>Review Category</th>\n",
       "      <th>Month</th>\n",
       "      <th>Month Name</th>\n",
       "      <th>Depth Review</th>\n",
       "    </tr>\n",
       "  </thead>\n",
       "  <tbody>\n",
       "    <tr>\n",
       "      <th>6</th>\n",
       "      <td>old musty motel  bath need an update asap</td>\n",
       "      <td>2019-08-19</td>\n",
       "      <td>Palm Harbor</td>\n",
       "      <td>0.10</td>\n",
       "      <td>0.20</td>\n",
       "      <td>Positive</td>\n",
       "      <td>8</td>\n",
       "      <td>Aug</td>\n",
       "      <td>somewhat satisfied</td>\n",
       "    </tr>\n",
       "    <tr>\n",
       "      <th>9</th>\n",
       "      <td>rooms were very small was told i had a complimentary upgrade to a empire state building view room but it was a regular room everything else was ok</td>\n",
       "      <td>2019-08-19</td>\n",
       "      <td>Palm Harbor</td>\n",
       "      <td>0.12</td>\n",
       "      <td>0.40</td>\n",
       "      <td>Positive</td>\n",
       "      <td>8</td>\n",
       "      <td>Aug</td>\n",
       "      <td>somewhat satisfied</td>\n",
       "    </tr>\n",
       "    <tr>\n",
       "      <th>18</th>\n",
       "      <td>it was great for what we needed a place to sleep parking was 20 a day which isn’t too bad for that area we were on the floor that the pool was located on so there was a constant flow of loud people storming down the hallway poorly set up since that is the only way to the pool they probably put us there since we used a third party booking site</td>\n",
       "      <td>2019-08-19</td>\n",
       "      <td>Redding</td>\n",
       "      <td>-0.04</td>\n",
       "      <td>0.55</td>\n",
       "      <td>Negative</td>\n",
       "      <td>8</td>\n",
       "      <td>Aug</td>\n",
       "      <td>Negative</td>\n",
       "    </tr>\n",
       "    <tr>\n",
       "      <th>21</th>\n",
       "      <td>the room is tiny the building is old and worn on inside needs updating the walls are thin the bathroom needs updating flooring is worn and ripping staff wasn’t the friendliest plan on walking 25 minutes to time square security was the only good thing with this hotel be prepared they add on fees if you purchase through expedia they call it resort fees why i have no idea it’s not a resort</td>\n",
       "      <td>2019-08-18</td>\n",
       "      <td>Redding</td>\n",
       "      <td>0.08</td>\n",
       "      <td>0.63</td>\n",
       "      <td>Positive</td>\n",
       "      <td>8</td>\n",
       "      <td>Aug</td>\n",
       "      <td>somewhat satisfied</td>\n",
       "    </tr>\n",
       "    <tr>\n",
       "      <th>23</th>\n",
       "      <td>基本的に問題なしでした。 清潔で防音も普通な方で、水回りも清潔でシャワーの水圧も問題なしです。 ただ、歯ブラシやスリッパ、バスローブなどはありません。 シャンプー、石鹸、ズボンプレッサー、冷蔵庫などはありました。</td>\n",
       "      <td>2019-08-18</td>\n",
       "      <td>Redding</td>\n",
       "      <td>0.00</td>\n",
       "      <td>0.00</td>\n",
       "      <td>Negative</td>\n",
       "      <td>8</td>\n",
       "      <td>Aug</td>\n",
       "      <td>Negative</td>\n",
       "    </tr>\n",
       "  </tbody>\n",
       "</table>\n",
       "</div>"
      ],
      "text/plain": [
       "                                                                                                                                                                                                                                                                                                                                                                                                           Review  \\\n",
       "6                                                                                                                                                                                                                                                                                                                                                              old musty motel  bath need an update asap            \n",
       "9                                                                                                                                                                                                                                                      rooms were very small was told i had a complimentary upgrade to a empire state building view room but it was a regular room everything else was ok           \n",
       "18                                               it was great for what we needed a place to sleep parking was 20 a day which isn’t too bad for that area we were on the floor that the pool was located on so there was a constant flow of loud people storming down the hallway poorly set up since that is the only way to the pool they probably put us there since we used a third party booking site           \n",
       "21  the room is tiny the building is old and worn on inside needs updating the walls are thin the bathroom needs updating flooring is worn and ripping staff wasn’t the friendliest plan on walking 25 minutes to time square security was the only good thing with this hotel be prepared they add on fees if you purchase through expedia they call it resort fees why i have no idea it’s not a resort           \n",
       "23                                                                                                                                                                                                                                                                                             基本的に問題なしでした。 清潔で防音も普通な方で、水回りも清潔でシャワーの水圧も問題なしです。 ただ、歯ブラシやスリッパ、バスローブなどはありません。 シャンプー、石鹸、ズボンプレッサー、冷蔵庫などはありました。           \n",
       "\n",
       "         date     Location  Review Polarity Review Subjectivity  \\\n",
       "6  2019-08-19  Palm Harbor             0.10                0.20   \n",
       "9  2019-08-19  Palm Harbor             0.12                0.40   \n",
       "18 2019-08-19      Redding            -0.04                0.55   \n",
       "21 2019-08-18      Redding             0.08                0.63   \n",
       "23 2019-08-18      Redding             0.00                0.00   \n",
       "\n",
       "   Review Category  Month Month Name        Depth Review  \n",
       "6         Positive      8        Aug  somewhat satisfied  \n",
       "9         Positive      8        Aug  somewhat satisfied  \n",
       "18        Negative      8        Aug            Negative  \n",
       "21        Positive      8        Aug  somewhat satisfied  \n",
       "23        Negative      8        Aug            Negative  "
      ]
     },
     "execution_count": 65,
     "metadata": {},
     "output_type": "execute_result"
    }
   ],
   "source": [
    "hotel[hotel['Review Polarity']<0.20].head(5)"
   ]
  },
  {
   "cell_type": "code",
   "execution_count": 66,
   "metadata": {},
   "outputs": [
    {
     "data": {
      "text/plain": [
       "satisfied             2280\n",
       "Negative              1773\n",
       "somewhat satisfied    1309\n",
       "very satisfied        1086\n",
       "Name: Depth Review, dtype: int64"
      ]
     },
     "execution_count": 66,
     "metadata": {},
     "output_type": "execute_result"
    }
   ],
   "source": [
    "hotel_depth = hotel['Depth Review'].value_counts()\n",
    "hotel_depth"
   ]
  },
  {
   "cell_type": "code",
   "execution_count": 68,
   "metadata": {},
   "outputs": [
    {
     "data": {
      "image/png": "[encoded data removed]",
      "text/plain": [
       "<Figure size 1080x576 with 1 Axes>"
      ]
     },
     "metadata": {
      "needs_background": "light"
     },
     "output_type": "display_data"
    }
   ],
   "source": [
    "plt.bar(hotel_depth.index, hotel_depth.values, color=['#CD202D','#15244C','#FFFF48','#292734'],alpha=0.7)\n",
    "\n",
    "plt.title(\"Overall Hotel Depth Review\", fontsize= 18)\n",
    "plt.xlabel('Review Category', fontsize=15)\n",
    "plt.ylabel('Counts', fontsize=15)\n",
    "plt.xticks(fontsize=14)\n",
    "plt.yticks(fontsize=14)\n",
    "\n",
    "count = 0\n",
    "for i in hotel_depth.values:\n",
    "    plt.text(count-0.3,i+1,str(i),size=15,color='black') \n",
    "    count+=1\n",
    "plt.show()"
   ]
  },
  {
   "cell_type": "markdown",
   "metadata": {},
   "source": [
    "### Most of the reviews are belong between 0.2 to 0.5 and they are satisfied with service.\n",
    "### And second most number they are given a Negative review"
   ]
  },
  {
   "cell_type": "code",
   "execution_count": null,
   "metadata": {},
   "outputs": [],
   "source": []
  },
  {
   "cell_type": "markdown",
   "metadata": {},
   "source": [
    "### By exploring the dataset I found there are lots of reviews that are written not in English but other languages. and the sentiment detection algorithm can't detect their sentiment so give the Polarity and Subjectivity 0."
   ]
  },
  {
   "cell_type": "code",
   "execution_count": 72,
   "metadata": {},
   "outputs": [],
   "source": [
    "zero_review = hotel[(hotel['Review Polarity'] ==0.00) & (hotel['Review Subjectivity']==0.00)]"
   ]
  },
  {
   "cell_type": "code",
   "execution_count": 73,
   "metadata": {
    "scrolled": true
   },
   "outputs": [
    {
     "data": {
      "text/html": [
       "<div>\n",
       "<style scoped>\n",
       "    .dataframe tbody tr th:only-of-type {\n",
       "        vertical-align: middle;\n",
       "    }\n",
       "\n",
       "    .dataframe tbody tr th {\n",
       "        vertical-align: top;\n",
       "    }\n",
       "\n",
       "    .dataframe thead th {\n",
       "        text-align: right;\n",
       "    }\n",
       "</style>\n",
       "<table border=\"1\" class=\"dataframe\">\n",
       "  <thead>\n",
       "    <tr style=\"text-align: right;\">\n",
       "      <th></th>\n",
       "      <th>Review</th>\n",
       "      <th>date</th>\n",
       "      <th>Location</th>\n",
       "      <th>Review Polarity</th>\n",
       "      <th>Review Subjectivity</th>\n",
       "      <th>Review Category</th>\n",
       "      <th>Month</th>\n",
       "      <th>Month Name</th>\n",
       "      <th>Depth Review</th>\n",
       "    </tr>\n",
       "  </thead>\n",
       "  <tbody>\n",
       "    <tr>\n",
       "      <th>23</th>\n",
       "      <td>基本的に問題なしでした。 清潔で防音も普通な方で、水回りも清潔でシャワーの水圧も問題なしです。 ただ、歯ブラシやスリッパ、バスローブなどはありません。 シャンプー、石鹸、ズボンプレッサー、冷蔵庫などはありました。</td>\n",
       "      <td>2019-08-18</td>\n",
       "      <td>Redding</td>\n",
       "      <td>0.0</td>\n",
       "      <td>0.0</td>\n",
       "      <td>Negative</td>\n",
       "      <td>8</td>\n",
       "      <td>Aug</td>\n",
       "      <td>Negative</td>\n",
       "    </tr>\n",
       "    <tr>\n",
       "      <th>31</th>\n",
       "      <td>les chambres familiales sont pratiques nous étions 7 et cest agréable dêtre tous ensemble cependant le personnel est exécrable  lindividu à l’accueil sest permis de dire à mon mari quil était trop lent lors de lenregistrement  cest inacceptable  de plus la climatisation est extrêmement bruyante plusieurs dentre nous ont eu beaucoup de difficulté à dormir</td>\n",
       "      <td>2019-08-17</td>\n",
       "      <td>Montréal</td>\n",
       "      <td>0.0</td>\n",
       "      <td>0.0</td>\n",
       "      <td>Negative</td>\n",
       "      <td>8</td>\n",
       "      <td>Aug</td>\n",
       "      <td>Negative</td>\n",
       "    </tr>\n",
       "    <tr>\n",
       "      <th>33</th>\n",
       "      <td>nan</td>\n",
       "      <td>2019-08-17</td>\n",
       "      <td>Grand Cayman, Cayman Islands</td>\n",
       "      <td>0.0</td>\n",
       "      <td>0.0</td>\n",
       "      <td>Negative</td>\n",
       "      <td>8</td>\n",
       "      <td>Aug</td>\n",
       "      <td>Negative</td>\n",
       "    </tr>\n",
       "    <tr>\n",
       "      <th>47</th>\n",
       "      <td>vétuste mérite un sacré rafraîchissement  emplacement idéal</td>\n",
       "      <td>2019-08-14</td>\n",
       "      <td>Toulon</td>\n",
       "      <td>0.0</td>\n",
       "      <td>0.0</td>\n",
       "      <td>Negative</td>\n",
       "      <td>8</td>\n",
       "      <td>Aug</td>\n",
       "      <td>Negative</td>\n",
       "    </tr>\n",
       "    <tr>\n",
       "      <th>49</th>\n",
       "      <td>el aire acondicionado goteaba y la alfombra estaba empapada y con humedad</td>\n",
       "      <td>2019-08-14</td>\n",
       "      <td>Toulon</td>\n",
       "      <td>0.0</td>\n",
       "      <td>0.0</td>\n",
       "      <td>Negative</td>\n",
       "      <td>8</td>\n",
       "      <td>Aug</td>\n",
       "      <td>Negative</td>\n",
       "    </tr>\n",
       "    <tr>\n",
       "      <th>55</th>\n",
       "      <td>comodo per la posizione ma hotel fatiscente camera e bagno troppo piccoli e la quarta stella gliel hanno regalata</td>\n",
       "      <td>2019-08-13</td>\n",
       "      <td>Lake Buena Vista - Orlando</td>\n",
       "      <td>0.0</td>\n",
       "      <td>0.0</td>\n",
       "      <td>Negative</td>\n",
       "      <td>8</td>\n",
       "      <td>Aug</td>\n",
       "      <td>Negative</td>\n",
       "    </tr>\n",
       "    <tr>\n",
       "      <th>61</th>\n",
       "      <td>todo excelente muy buenas instalaciones y excelente servico</td>\n",
       "      <td>2019-08-12</td>\n",
       "      <td>México</td>\n",
       "      <td>0.0</td>\n",
       "      <td>0.0</td>\n",
       "      <td>Negative</td>\n",
       "      <td>8</td>\n",
       "      <td>Aug</td>\n",
       "      <td>Negative</td>\n",
       "    </tr>\n",
       "    <tr>\n",
       "      <th>84</th>\n",
       "      <td>nos encanto tanto el trato recibido en la recepcion como la ayuda del sr sebastiansuper amable y eficiente muchisimas gracias</td>\n",
       "      <td>2019-08-11</td>\n",
       "      <td>Tokyo</td>\n",
       "      <td>0.0</td>\n",
       "      <td>0.0</td>\n",
       "      <td>Negative</td>\n",
       "      <td>8</td>\n",
       "      <td>Aug</td>\n",
       "      <td>Negative</td>\n",
       "    </tr>\n",
       "    <tr>\n",
       "      <th>86</th>\n",
       "      <td>didn’t like being charged for parking and resort fee</td>\n",
       "      <td>2019-08-11</td>\n",
       "      <td>Apollo Beach</td>\n",
       "      <td>0.0</td>\n",
       "      <td>0.0</td>\n",
       "      <td>Negative</td>\n",
       "      <td>8</td>\n",
       "      <td>Aug</td>\n",
       "      <td>Negative</td>\n",
       "    </tr>\n",
       "    <tr>\n",
       "      <th>87</th>\n",
       "      <td>camera non disponibile e sporca lunghissime code alla reception</td>\n",
       "      <td>2019-08-11</td>\n",
       "      <td>Apollo Beach</td>\n",
       "      <td>0.0</td>\n",
       "      <td>0.0</td>\n",
       "      <td>Negative</td>\n",
       "      <td>8</td>\n",
       "      <td>Aug</td>\n",
       "      <td>Negative</td>\n",
       "    </tr>\n",
       "    <tr>\n",
       "      <th>96</th>\n",
       "      <td>shower appears to have mold on ceiling wallpapering is peeling off wall sheets were stained i can show pictures of wallpaper and mold problems if required for the price i would expect cleaner facilities</td>\n",
       "      <td>2019-08-10</td>\n",
       "      <td>Puerto Rico</td>\n",
       "      <td>0.0</td>\n",
       "      <td>0.0</td>\n",
       "      <td>Negative</td>\n",
       "      <td>8</td>\n",
       "      <td>Aug</td>\n",
       "      <td>Negative</td>\n",
       "    </tr>\n",
       "    <tr>\n",
       "      <th>98</th>\n",
       "      <td>simplemente espectacular en todo sentido y momento</td>\n",
       "      <td>2019-08-09</td>\n",
       "      <td>Puerto Rico</td>\n",
       "      <td>0.0</td>\n",
       "      <td>0.0</td>\n",
       "      <td>Negative</td>\n",
       "      <td>8</td>\n",
       "      <td>Aug</td>\n",
       "      <td>Negative</td>\n",
       "    </tr>\n",
       "    <tr>\n",
       "      <th>121</th>\n",
       "      <td>10年以上前にも泊まった事があるが、その頃から時が経った分ぼろくなっただけの印象。 立地を考えれば割安かもしれないが、使いもしないフィットネス施設やビジネスセンター、電話代をファシリティー費として取られるのは納得感が無い。どうせなら地下にあるランドリーコーナーを使えるようにしてほしい。</td>\n",
       "      <td>2019-08-07</td>\n",
       "      <td>Chicago</td>\n",
       "      <td>0.0</td>\n",
       "      <td>0.0</td>\n",
       "      <td>Negative</td>\n",
       "      <td>8</td>\n",
       "      <td>Aug</td>\n",
       "      <td>Negative</td>\n",
       "    </tr>\n",
       "    <tr>\n",
       "      <th>143</th>\n",
       "      <td>from the minute you arrive to the minute you leave you are not a customer you are treated like family</td>\n",
       "      <td>2019-08-05</td>\n",
       "      <td>Weeki Wachee Fl.</td>\n",
       "      <td>0.0</td>\n",
       "      <td>0.0</td>\n",
       "      <td>Negative</td>\n",
       "      <td>8</td>\n",
       "      <td>Aug</td>\n",
       "      <td>Negative</td>\n",
       "    </tr>\n",
       "    <tr>\n",
       "      <th>151</th>\n",
       "      <td>excelente ubicación y habitación muy limpia de echo es la tercera que nos quedamos en este hotel y lo volveremos a hacer</td>\n",
       "      <td>2019-08-05</td>\n",
       "      <td>New York</td>\n",
       "      <td>0.0</td>\n",
       "      <td>0.0</td>\n",
       "      <td>Negative</td>\n",
       "      <td>8</td>\n",
       "      <td>Aug</td>\n",
       "      <td>Negative</td>\n",
       "    </tr>\n",
       "    <tr>\n",
       "      <th>153</th>\n",
       "      <td>das hotel verfügt über den einzigartigen charm der 30er jahre und ist auf alle fälle zu empfehlen</td>\n",
       "      <td>2019-08-05</td>\n",
       "      <td>New York</td>\n",
       "      <td>0.0</td>\n",
       "      <td>0.0</td>\n",
       "      <td>Negative</td>\n",
       "      <td>8</td>\n",
       "      <td>Aug</td>\n",
       "      <td>Negative</td>\n",
       "    </tr>\n",
       "    <tr>\n",
       "      <th>158</th>\n",
       "      <td>concierge was not helpful when we needed to get a taxi</td>\n",
       "      <td>2019-08-05</td>\n",
       "      <td>Los Banos</td>\n",
       "      <td>0.0</td>\n",
       "      <td>0.0</td>\n",
       "      <td>Negative</td>\n",
       "      <td>8</td>\n",
       "      <td>Aug</td>\n",
       "      <td>Negative</td>\n",
       "    </tr>\n",
       "    <tr>\n",
       "      <th>170</th>\n",
       "      <td>el restaurante d carne butcher and bank y la ubicacion del hotel</td>\n",
       "      <td>2019-08-04</td>\n",
       "      <td>Irvine, CA</td>\n",
       "      <td>0.0</td>\n",
       "      <td>0.0</td>\n",
       "      <td>Negative</td>\n",
       "      <td>8</td>\n",
       "      <td>Aug</td>\n",
       "      <td>Negative</td>\n",
       "    </tr>\n",
       "    <tr>\n",
       "      <th>173</th>\n",
       "      <td>il est parfaitement situé c est un atout majeur proche du métro et du coeur de la ville à 2 pas de time square et de broadway</td>\n",
       "      <td>2019-08-04</td>\n",
       "      <td>Texas</td>\n",
       "      <td>0.0</td>\n",
       "      <td>0.0</td>\n",
       "      <td>Negative</td>\n",
       "      <td>8</td>\n",
       "      <td>Aug</td>\n",
       "      <td>Negative</td>\n",
       "    </tr>\n",
       "    <tr>\n",
       "      <th>205</th>\n",
       "      <td>didnt accomodate me needing two queen beds for my family</td>\n",
       "      <td>2019-07-31</td>\n",
       "      <td>Galt</td>\n",
       "      <td>0.0</td>\n",
       "      <td>0.0</td>\n",
       "      <td>Negative</td>\n",
       "      <td>7</td>\n",
       "      <td>Jul</td>\n",
       "      <td>Negative</td>\n",
       "    </tr>\n",
       "    <tr>\n",
       "      <th>216</th>\n",
       "      <td>i didnt like the parking a lot of cars think every guest should have a designated parking</td>\n",
       "      <td>2019-07-31</td>\n",
       "      <td>Chicago, IL</td>\n",
       "      <td>0.0</td>\n",
       "      <td>0.0</td>\n",
       "      <td>Negative</td>\n",
       "      <td>7</td>\n",
       "      <td>Jul</td>\n",
       "      <td>Negative</td>\n",
       "    </tr>\n",
       "    <tr>\n",
       "      <th>234</th>\n",
       "      <td>did not like having to pay additional hotel fees after taxes it was almost 20000 including parking fee that i didnt account for</td>\n",
       "      <td>2019-07-30</td>\n",
       "      <td>South bend Indiana</td>\n",
       "      <td>0.0</td>\n",
       "      <td>0.0</td>\n",
       "      <td>Negative</td>\n",
       "      <td>7</td>\n",
       "      <td>Jul</td>\n",
       "      <td>Negative</td>\n",
       "    </tr>\n",
       "    <tr>\n",
       "      <th>246</th>\n",
       "      <td>en la llegada nos dieron un desayuno y un upgrade gratis de la habitación que implicaba mejores vistas debido a que nos dieron una habitación en la que estaban trabajando en ese momento las habitaciones son pequeñas pero muy correctas los pasillos son un poco mas antiguos pero importa poco hay que tener en cuenta que el mismo edificio alberga distintos tipos de alojamientos a distintos precios incluyendo albergues para joven aunque los distintos huespedes nunca se mezclan en la misma planta pero le da al conjunto un ambiente peculiar la limpieza es impecables en las habitaciones y la ubicación es inmejorable la relación calidadprecio al menos el que pagamos lo hace 100 recomendable si uno no espera un 4 estrellas con estándar español</td>\n",
       "      <td>2019-07-29</td>\n",
       "      <td>charlotte</td>\n",
       "      <td>0.0</td>\n",
       "      <td>0.0</td>\n",
       "      <td>Negative</td>\n",
       "      <td>7</td>\n",
       "      <td>Jul</td>\n",
       "      <td>Negative</td>\n",
       "    </tr>\n",
       "    <tr>\n",
       "      <th>257</th>\n",
       "      <td>i didn’t like the rooms and one of the tv never works</td>\n",
       "      <td>2019-07-28</td>\n",
       "      <td>Midland TX</td>\n",
       "      <td>0.0</td>\n",
       "      <td>0.0</td>\n",
       "      <td>Negative</td>\n",
       "      <td>7</td>\n",
       "      <td>Jul</td>\n",
       "      <td>Negative</td>\n",
       "    </tr>\n",
       "    <tr>\n",
       "      <th>263</th>\n",
       "      <td>nan</td>\n",
       "      <td>2019-07-27</td>\n",
       "      <td>Oregon</td>\n",
       "      <td>0.0</td>\n",
       "      <td>0.0</td>\n",
       "      <td>Negative</td>\n",
       "      <td>7</td>\n",
       "      <td>Jul</td>\n",
       "      <td>Negative</td>\n",
       "    </tr>\n",
       "    <tr>\n",
       "      <th>274</th>\n",
       "      <td>die zentrale lage ist unschlagbar das zimmer war winzig aber klimatisiert die betten waren sehr bequem aber für ein doppelbett etwas zu schmal 140cm das zimmer war immer sauber und wir hatten unsere ruhe</td>\n",
       "      <td>2019-07-25</td>\n",
       "      <td>Michigan</td>\n",
       "      <td>0.0</td>\n",
       "      <td>0.0</td>\n",
       "      <td>Negative</td>\n",
       "      <td>7</td>\n",
       "      <td>Jul</td>\n",
       "      <td>Negative</td>\n",
       "    </tr>\n",
       "    <tr>\n",
       "      <th>282</th>\n",
       "      <td>toda la estadía en este hotel fue espectacular simplemente me encantó</td>\n",
       "      <td>2019-07-24</td>\n",
       "      <td>Maryland</td>\n",
       "      <td>0.0</td>\n",
       "      <td>0.0</td>\n",
       "      <td>Negative</td>\n",
       "      <td>7</td>\n",
       "      <td>Jul</td>\n",
       "      <td>Negative</td>\n",
       "    </tr>\n",
       "    <tr>\n",
       "      <th>285</th>\n",
       "      <td>saubere zimmer leider etwas klein und dunkel service war sehr gut</td>\n",
       "      <td>2019-07-24</td>\n",
       "      <td>Princeton</td>\n",
       "      <td>0.0</td>\n",
       "      <td>0.0</td>\n",
       "      <td>Negative</td>\n",
       "      <td>7</td>\n",
       "      <td>Jul</td>\n",
       "      <td>Negative</td>\n",
       "    </tr>\n",
       "    <tr>\n",
       "      <th>294</th>\n",
       "      <td>proximity to disney parks and disney springs also close to i4</td>\n",
       "      <td>2019-07-23</td>\n",
       "      <td>Sparks nv</td>\n",
       "      <td>0.0</td>\n",
       "      <td>0.0</td>\n",
       "      <td>Negative</td>\n",
       "      <td>7</td>\n",
       "      <td>Jul</td>\n",
       "      <td>Negative</td>\n",
       "    </tr>\n",
       "    <tr>\n",
       "      <th>295</th>\n",
       "      <td>no amenities in the room room 608 on 72219 pillow cases were not changed on the night of our stay bath towel had holes in it</td>\n",
       "      <td>2019-07-23</td>\n",
       "      <td>Sparks nv</td>\n",
       "      <td>0.0</td>\n",
       "      <td>0.0</td>\n",
       "      <td>Negative</td>\n",
       "      <td>7</td>\n",
       "      <td>Jul</td>\n",
       "      <td>Negative</td>\n",
       "    </tr>\n",
       "  </tbody>\n",
       "</table>\n",
       "</div>"
      ],
      "text/plain": [
       "                                                                                                                                                                                                                                                                                                                                                                                                                                                                                                                                                                                                                                                                                                                                                                              Review  \\\n",
       "23                                                                                                                                                                                                                                                                                                                                                                                                                                                                                                                                                                                                                                                                基本的に問題なしでした。 清潔で防音も普通な方で、水回りも清潔でシャワーの水圧も問題なしです。 ただ、歯ブラシやスリッパ、バスローブなどはありません。 シャンプー、石鹸、ズボンプレッサー、冷蔵庫などはありました。           \n",
       "31                                                                                                                                                                                                                                                                                                                                                                                                      les chambres familiales sont pratiques nous étions 7 et cest agréable dêtre tous ensemble cependant le personnel est exécrable  lindividu à l’accueil sest permis de dire à mon mari quil était trop lent lors de lenregistrement  cest inacceptable  de plus la climatisation est extrêmement bruyante plusieurs dentre nous ont eu beaucoup de difficulté à dormir           \n",
       "33                                                                                                                                                                                                                                                                                                                                                                                                                                                                                                                                                                                                                                                                                                                                                                               nan   \n",
       "47                                                                                                                                                                                                                                                                                                                                                                                                                                                                                                                                                                                                                                                                                                               vétuste mérite un sacré rafraîchissement  emplacement idéal           \n",
       "49                                                                                                                                                                                                                                                                                                                                                                                                                                                                                                                                                                                                                                                                                                 el aire acondicionado goteaba y la alfombra estaba empapada y con humedad           \n",
       "55                                                                                                                                                                                                                                                                                                                                                                                                                                                                                                                                                                                                                                                         comodo per la posizione ma hotel fatiscente camera e bagno troppo piccoli e la quarta stella gliel hanno regalata           \n",
       "61                                                                                                                                                                                                                                                                                                                                                                                                                                                                                                                                                                                                                                                                                                               todo excelente muy buenas instalaciones y excelente servico           \n",
       "84                                                                                                                                                                                                                                                                                                                                                                                                                                                                                                                                                                                                                                             nos encanto tanto el trato recibido en la recepcion como la ayuda del sr sebastiansuper amable y eficiente muchisimas gracias           \n",
       "86                                                                                                                                                                                                                                                                                                                                                                                                                                                                                                                                                                                                                                                                                                                      didn’t like being charged for parking and resort fee           \n",
       "87                                                                                                                                                                                                                                                                                                                                                                                                                                                                                                                                                                                                                                                                                                           camera non disponibile e sporca lunghissime code alla reception           \n",
       "96                                                                                                                                                                                                                                                                                                                                                                                                                                                                                                                                                                shower appears to have mold on ceiling wallpapering is peeling off wall sheets were stained i can show pictures of wallpaper and mold problems if required for the price i would expect cleaner facilities           \n",
       "98                                                                                                                                                                                                                                                                                                                                                                                                                                                                                                                                                                                                                                                                                                                        simplemente espectacular en todo sentido y momento           \n",
       "121                                                                                                                                                                                                                                                                                                                                                                                                                                                                                                                                                                                                                          10年以上前にも泊まった事があるが、その頃から時が経った分ぼろくなっただけの印象。 立地を考えれば割安かもしれないが、使いもしないフィットネス施設やビジネスセンター、電話代をファシリティー費として取られるのは納得感が無い。どうせなら地下にあるランドリーコーナーを使えるようにしてほしい。           \n",
       "143                                                                                                                                                                                                                                                                                                                                                                                                                                                                                                                                                                                                                                                                    from the minute you arrive to the minute you leave you are not a customer you are treated like family           \n",
       "151                                                                                                                                                                                                                                                                                                                                                                                                                                                                                                                                                                                                                                                 excelente ubicación y habitación muy limpia de echo es la tercera que nos quedamos en este hotel y lo volveremos a hacer           \n",
       "153                                                                                                                                                                                                                                                                                                                                                                                                                                                                                                                                                                                                                                                                        das hotel verfügt über den einzigartigen charm der 30er jahre und ist auf alle fälle zu empfehlen           \n",
       "158                                                                                                                                                                                                                                                                                                                                                                                                                                                                                                                                                                                                                                                                                                                   concierge was not helpful when we needed to get a taxi           \n",
       "170                                                                                                                                                                                                                                                                                                                                                                                                                                                                                                                                                                                                                                                                                                         el restaurante d carne butcher and bank y la ubicacion del hotel           \n",
       "173                                                                                                                                                                                                                                                                                                                                                                                                                                                                                                                                                                                                                                            il est parfaitement situé c est un atout majeur proche du métro et du coeur de la ville à 2 pas de time square et de broadway           \n",
       "205                                                                                                                                                                                                                                                                                                                                                                                                                                                                                                                                                                                                                                                                                                                 didnt accomodate me needing two queen beds for my family           \n",
       "216                                                                                                                                                                                                                                                                                                                                                                                                                                                                                                                                                                                                                                                                                i didnt like the parking a lot of cars think every guest should have a designated parking           \n",
       "234                                                                                                                                                                                                                                                                                                                                                                                                                                                                                                                                                                                                                                          did not like having to pay additional hotel fees after taxes it was almost 20000 including parking fee that i didnt account for           \n",
       "246  en la llegada nos dieron un desayuno y un upgrade gratis de la habitación que implicaba mejores vistas debido a que nos dieron una habitación en la que estaban trabajando en ese momento las habitaciones son pequeñas pero muy correctas los pasillos son un poco mas antiguos pero importa poco hay que tener en cuenta que el mismo edificio alberga distintos tipos de alojamientos a distintos precios incluyendo albergues para joven aunque los distintos huespedes nunca se mezclan en la misma planta pero le da al conjunto un ambiente peculiar la limpieza es impecables en las habitaciones y la ubicación es inmejorable la relación calidadprecio al menos el que pagamos lo hace 100 recomendable si uno no espera un 4 estrellas con estándar español           \n",
       "257                                                                                                                                                                                                                                                                                                                                                                                                                                                                                                                                                                                                                                                                                                                    i didn’t like the rooms and one of the tv never works           \n",
       "263                                                                                                                                                                                                                                                                                                                                                                                                                                                                                                                                                                                                                                                                                                                                                                              nan   \n",
       "274                                                                                                                                                                                                                                                                                                                                                                                                                                                                                                                                                              die zentrale lage ist unschlagbar das zimmer war winzig aber klimatisiert die betten waren sehr bequem aber für ein doppelbett etwas zu schmal 140cm das zimmer war immer sauber und wir hatten unsere ruhe           \n",
       "282                                                                                                                                                                                                                                                                                                                                                                                                                                                                                                                                                                                                                                                                                                    toda la estadía en este hotel fue espectacular simplemente me encantó           \n",
       "285                                                                                                                                                                                                                                                                                                                                                                                                                                                                                                                                                                                                                                                                                                        saubere zimmer leider etwas klein und dunkel service war sehr gut           \n",
       "294                                                                                                                                                                                                                                                                                                                                                                                                                                                                                                                                                                                                                                                                                                            proximity to disney parks and disney springs also close to i4           \n",
       "295                                                                                                                                                                                                                                                                                                                                                                                                                                                                                                                                                                                                                                             no amenities in the room room 608 on 72219 pillow cases were not changed on the night of our stay bath towel had holes in it           \n",
       "\n",
       "          date                      Location  Review Polarity  \\\n",
       "23  2019-08-18                       Redding              0.0   \n",
       "31  2019-08-17                      Montréal              0.0   \n",
       "33  2019-08-17  Grand Cayman, Cayman Islands              0.0   \n",
       "47  2019-08-14                        Toulon              0.0   \n",
       "49  2019-08-14                        Toulon              0.0   \n",
       "55  2019-08-13    Lake Buena Vista - Orlando              0.0   \n",
       "61  2019-08-12                        México              0.0   \n",
       "84  2019-08-11                         Tokyo              0.0   \n",
       "86  2019-08-11                  Apollo Beach              0.0   \n",
       "87  2019-08-11                  Apollo Beach              0.0   \n",
       "96  2019-08-10                   Puerto Rico              0.0   \n",
       "98  2019-08-09                   Puerto Rico              0.0   \n",
       "121 2019-08-07                       Chicago              0.0   \n",
       "143 2019-08-05              Weeki Wachee Fl.              0.0   \n",
       "151 2019-08-05                      New York              0.0   \n",
       "153 2019-08-05                      New York              0.0   \n",
       "158 2019-08-05                     Los Banos              0.0   \n",
       "170 2019-08-04                    Irvine, CA              0.0   \n",
       "173 2019-08-04                         Texas              0.0   \n",
       "205 2019-07-31                          Galt              0.0   \n",
       "216 2019-07-31                   Chicago, IL              0.0   \n",
       "234 2019-07-30            South bend Indiana              0.0   \n",
       "246 2019-07-29                     charlotte              0.0   \n",
       "257 2019-07-28                    Midland TX              0.0   \n",
       "263 2019-07-27                        Oregon              0.0   \n",
       "274 2019-07-25                      Michigan              0.0   \n",
       "282 2019-07-24                      Maryland              0.0   \n",
       "285 2019-07-24                     Princeton              0.0   \n",
       "294 2019-07-23                     Sparks nv              0.0   \n",
       "295 2019-07-23                     Sparks nv              0.0   \n",
       "\n",
       "     Review Subjectivity Review Category  Month Month Name Depth Review  \n",
       "23                   0.0        Negative      8        Aug     Negative  \n",
       "31                   0.0        Negative      8        Aug     Negative  \n",
       "33                   0.0        Negative      8        Aug     Negative  \n",
       "47                   0.0        Negative      8        Aug     Negative  \n",
       "49                   0.0        Negative      8        Aug     Negative  \n",
       "55                   0.0        Negative      8        Aug     Negative  \n",
       "61                   0.0        Negative      8        Aug     Negative  \n",
       "84                   0.0        Negative      8        Aug     Negative  \n",
       "86                   0.0        Negative      8        Aug     Negative  \n",
       "87                   0.0        Negative      8        Aug     Negative  \n",
       "96                   0.0        Negative      8        Aug     Negative  \n",
       "98                   0.0        Negative      8        Aug     Negative  \n",
       "121                  0.0        Negative      8        Aug     Negative  \n",
       "143                  0.0        Negative      8        Aug     Negative  \n",
       "151                  0.0        Negative      8        Aug     Negative  \n",
       "153                  0.0        Negative      8        Aug     Negative  \n",
       "158                  0.0        Negative      8        Aug     Negative  \n",
       "170                  0.0        Negative      8        Aug     Negative  \n",
       "173                  0.0        Negative      8        Aug     Negative  \n",
       "205                  0.0        Negative      7        Jul     Negative  \n",
       "216                  0.0        Negative      7        Jul     Negative  \n",
       "234                  0.0        Negative      7        Jul     Negative  \n",
       "246                  0.0        Negative      7        Jul     Negative  \n",
       "257                  0.0        Negative      7        Jul     Negative  \n",
       "263                  0.0        Negative      7        Jul     Negative  \n",
       "274                  0.0        Negative      7        Jul     Negative  \n",
       "282                  0.0        Negative      7        Jul     Negative  \n",
       "285                  0.0        Negative      7        Jul     Negative  \n",
       "294                  0.0        Negative      7        Jul     Negative  \n",
       "295                  0.0        Negative      7        Jul     Negative  "
      ]
     },
     "execution_count": 73,
     "metadata": {},
     "output_type": "execute_result"
    }
   ],
   "source": [
    "zero_review.head(30)"
   ]
  },
  {
   "cell_type": "markdown",
   "metadata": {},
   "source": [
    "### By checking the output it is clear these comments are written not in English. and it put an impact on my previous output."
   ]
  },
  {
   "cell_type": "code",
   "execution_count": 74,
   "metadata": {},
   "outputs": [
    {
     "data": {
      "text/plain": [
       "599"
      ]
     },
     "execution_count": 74,
     "metadata": {},
     "output_type": "execute_result"
    }
   ],
   "source": [
    "len(zero_review)"
   ]
  },
  {
   "cell_type": "markdown",
   "metadata": {},
   "source": [
    "### There are 599 rows, where all comments are not written in English. or algorithm fail to detect their sentiment"
   ]
  },
  {
   "cell_type": "markdown",
   "metadata": {},
   "source": [
    "## I'm finishing here"
   ]
  }
 ],
 "metadata": {
  "kernelspec": {
   "display_name": "Python 3",
   "language": "python",
   "name": "python3"
  },
  "language_info": {
   "codemirror_mode": {
    "name": "ipython",
    "version": 3
   },
   "file_extension": ".py",
   "mimetype": "text/x-python",
   "name": "python",
   "nbconvert_exporter": "python",
   "pygments_lexer": "ipython3",
   "version": "3.8.3"
  }
 },
 "nbformat": 4,
 "nbformat_minor": 4
}
